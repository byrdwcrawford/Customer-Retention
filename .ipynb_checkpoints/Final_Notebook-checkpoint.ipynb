{
 "cells": [
  {
   "cell_type": "markdown",
   "metadata": {},
   "source": [
    "# **Telecom Customer Retention Project  \n",
    "### Will Byrd, May 2024  \n",
    "  \n",
    "## Intrduction**\n",
    "\n",
    "This is a standard classification project.  In this notebook, I will create classification models to predict wether or not a telephone service customer churned.  Churn refers to customers who have canceled their subscriptions.  I will focus on 2 different models-Decision Tree Classifier and Logistic Regression.  A baseline of each model will be created and then iteratively improved upon until the best model is created.  Methods to improve upon these models include   \n",
    "-  feature scaling\n",
    "-  Oversampling(SMOTE)  \n",
    "-  Pruning the Decision Tree  \n",
    "-  Hyper Parameter Tuning  \n",
    "\n",
    "\n",
    "\n",
    "\n",
    "## **Data**\n",
    "\n",
    "The data used in this project is from Kaggle's Churn in Telecom's Dataset.  This data is remarkably clean with no missing values and will allow me to focus on the principles of model building.  Each record in this dataset represents a customer in Telecom and has attributes such as: \n",
    "-  state  \n",
    "-  length of subscription  \n",
    "-  type of plan  \n",
    "-  usage  \n",
    "-  wether or not the churned  \n",
    "  \n",
    "We will be targeting customers who have not churned or have a value of false in the churn column.  The churn column is our target column-otherwise known as our dependent variable.\n",
    "  \n",
    "There will be a few preprocessing techniques on display here.  We will notice some 1:1 correlations between our usage columns that will allow us to drop specific columns to simpilify the data.  We will also dummy code categorical variables such as International Plan and Voicemail Plan.  Our state column will make building our models impossible, so we will use One Hot Encoding as well.   \n",
    "\n",
    "## **Goals**\n",
    "\n",
    "The main goal is to build the best model that can predict wether or not a customer will Churn.  We want to be able to determine qualities in customers who will churn vs those who will not churn so the business can be more strategic and efficient.  This can help the business allocate resources either to markets that are more advantageous or to know how to better anticipate their budget.  If a company can precisely predict how many customers will churn every month, they can be better prepared for the future.\n",
    "\n",
    "Since we have an overwhelming majority of False values for Churn, we want to build a model that can most correctly predict true positives as this will give us confidence in knowing how much money (subscriptions) the company will lose month over month. \n",
    "\n",
    "## Overview\n",
    "\n",
    "We will explore the data to better understand all features, correlations, and some distributions.  Then build a baseline Decision Tree Model and refine it with the methods mentioned above.  Every iteration of out baseline model will be evaluated with a cross validation score and Area Under the Curve (AUC) and then finally a confusion matrix will validate which model is the best.  Then the process will start over again with a Logistic Regression Model.\n",
    "\n",
    "## **Explaratory Data Analysis**  "
   ]
  },
  {
   "cell_type": "markdown",
   "metadata": {},
   "source": [
    "Let's load in every library we can think of."
   ]
  },
  {
   "cell_type": "code",
   "execution_count": 1,
   "metadata": {},
   "outputs": [],
   "source": [
    "import pandas as pd\n",
    "import numpy as np\n",
    "import matplotlib.pyplot as plt\n",
    "%matplotlib inline\n",
    "import warnings\n",
    "import seaborn as sns\n",
    "warnings.simplefilter(action='ignore', category=FutureWarning)\n",
    "from sklearn.linear_model import LinearRegression\n",
    "from sklearn.preprocessing import OneHotEncoder\n",
    "from seaborn import load_dataset\n",
    "from sklearn.model_selection import train_test_split\n",
    "from sklearn import tree\n",
    "from sklearn.tree import DecisionTreeClassifier\n",
    "from sklearn.tree import plot_tree\n",
    "from sklearn.preprocessing import StandardScaler\n",
    "from sklearn.compose import ColumnTransformer\n",
    "from sklearn.pipeline import Pipeline\n",
    "from sklearn.metrics import accuracy_score, classification_report\n",
    "from sklearn.linear_model import LogisticRegression\n",
    "from sklearn.utils.class_weight import compute_class_weight\n",
    "from imblearn.over_sampling import RandomOverSampler\n",
    "from sklearn.model_selection import GridSearchCV\n",
    "from sklearn.model_selection import cross_val_score\n",
    "from sklearn.metrics import confusion_matrix\n",
    "from sklearn.metrics import roc_auc_score, roc_curve, auc"
   ]
  },
  {
   "cell_type": "markdown",
   "metadata": {},
   "source": [
    "Let's take a look at the data to get an understanding of the features."
   ]
  },
  {
   "cell_type": "code",
   "execution_count": 2,
   "metadata": {
    "scrolled": false
   },
   "outputs": [
    {
     "data": {
      "text/html": [
       "<div>\n",
       "<style scoped>\n",
       "    .dataframe tbody tr th:only-of-type {\n",
       "        vertical-align: middle;\n",
       "    }\n",
       "\n",
       "    .dataframe tbody tr th {\n",
       "        vertical-align: top;\n",
       "    }\n",
       "\n",
       "    .dataframe thead th {\n",
       "        text-align: right;\n",
       "    }\n",
       "</style>\n",
       "<table border=\"1\" class=\"dataframe\">\n",
       "  <thead>\n",
       "    <tr style=\"text-align: right;\">\n",
       "      <th></th>\n",
       "      <th>state</th>\n",
       "      <th>account length</th>\n",
       "      <th>area code</th>\n",
       "      <th>phone number</th>\n",
       "      <th>international plan</th>\n",
       "      <th>voice mail plan</th>\n",
       "      <th>number vmail messages</th>\n",
       "      <th>total day minutes</th>\n",
       "      <th>total day calls</th>\n",
       "      <th>total day charge</th>\n",
       "      <th>...</th>\n",
       "      <th>total eve calls</th>\n",
       "      <th>total eve charge</th>\n",
       "      <th>total night minutes</th>\n",
       "      <th>total night calls</th>\n",
       "      <th>total night charge</th>\n",
       "      <th>total intl minutes</th>\n",
       "      <th>total intl calls</th>\n",
       "      <th>total intl charge</th>\n",
       "      <th>customer service calls</th>\n",
       "      <th>churn</th>\n",
       "    </tr>\n",
       "  </thead>\n",
       "  <tbody>\n",
       "    <tr>\n",
       "      <th>0</th>\n",
       "      <td>KS</td>\n",
       "      <td>128</td>\n",
       "      <td>415</td>\n",
       "      <td>382-4657</td>\n",
       "      <td>no</td>\n",
       "      <td>yes</td>\n",
       "      <td>25</td>\n",
       "      <td>265.1</td>\n",
       "      <td>110</td>\n",
       "      <td>45.07</td>\n",
       "      <td>...</td>\n",
       "      <td>99</td>\n",
       "      <td>16.78</td>\n",
       "      <td>244.7</td>\n",
       "      <td>91</td>\n",
       "      <td>11.01</td>\n",
       "      <td>10.0</td>\n",
       "      <td>3</td>\n",
       "      <td>2.70</td>\n",
       "      <td>1</td>\n",
       "      <td>False</td>\n",
       "    </tr>\n",
       "    <tr>\n",
       "      <th>1</th>\n",
       "      <td>OH</td>\n",
       "      <td>107</td>\n",
       "      <td>415</td>\n",
       "      <td>371-7191</td>\n",
       "      <td>no</td>\n",
       "      <td>yes</td>\n",
       "      <td>26</td>\n",
       "      <td>161.6</td>\n",
       "      <td>123</td>\n",
       "      <td>27.47</td>\n",
       "      <td>...</td>\n",
       "      <td>103</td>\n",
       "      <td>16.62</td>\n",
       "      <td>254.4</td>\n",
       "      <td>103</td>\n",
       "      <td>11.45</td>\n",
       "      <td>13.7</td>\n",
       "      <td>3</td>\n",
       "      <td>3.70</td>\n",
       "      <td>1</td>\n",
       "      <td>False</td>\n",
       "    </tr>\n",
       "    <tr>\n",
       "      <th>2</th>\n",
       "      <td>NJ</td>\n",
       "      <td>137</td>\n",
       "      <td>415</td>\n",
       "      <td>358-1921</td>\n",
       "      <td>no</td>\n",
       "      <td>no</td>\n",
       "      <td>0</td>\n",
       "      <td>243.4</td>\n",
       "      <td>114</td>\n",
       "      <td>41.38</td>\n",
       "      <td>...</td>\n",
       "      <td>110</td>\n",
       "      <td>10.30</td>\n",
       "      <td>162.6</td>\n",
       "      <td>104</td>\n",
       "      <td>7.32</td>\n",
       "      <td>12.2</td>\n",
       "      <td>5</td>\n",
       "      <td>3.29</td>\n",
       "      <td>0</td>\n",
       "      <td>False</td>\n",
       "    </tr>\n",
       "    <tr>\n",
       "      <th>3</th>\n",
       "      <td>OH</td>\n",
       "      <td>84</td>\n",
       "      <td>408</td>\n",
       "      <td>375-9999</td>\n",
       "      <td>yes</td>\n",
       "      <td>no</td>\n",
       "      <td>0</td>\n",
       "      <td>299.4</td>\n",
       "      <td>71</td>\n",
       "      <td>50.90</td>\n",
       "      <td>...</td>\n",
       "      <td>88</td>\n",
       "      <td>5.26</td>\n",
       "      <td>196.9</td>\n",
       "      <td>89</td>\n",
       "      <td>8.86</td>\n",
       "      <td>6.6</td>\n",
       "      <td>7</td>\n",
       "      <td>1.78</td>\n",
       "      <td>2</td>\n",
       "      <td>False</td>\n",
       "    </tr>\n",
       "    <tr>\n",
       "      <th>4</th>\n",
       "      <td>OK</td>\n",
       "      <td>75</td>\n",
       "      <td>415</td>\n",
       "      <td>330-6626</td>\n",
       "      <td>yes</td>\n",
       "      <td>no</td>\n",
       "      <td>0</td>\n",
       "      <td>166.7</td>\n",
       "      <td>113</td>\n",
       "      <td>28.34</td>\n",
       "      <td>...</td>\n",
       "      <td>122</td>\n",
       "      <td>12.61</td>\n",
       "      <td>186.9</td>\n",
       "      <td>121</td>\n",
       "      <td>8.41</td>\n",
       "      <td>10.1</td>\n",
       "      <td>3</td>\n",
       "      <td>2.73</td>\n",
       "      <td>3</td>\n",
       "      <td>False</td>\n",
       "    </tr>\n",
       "  </tbody>\n",
       "</table>\n",
       "<p>5 rows × 21 columns</p>\n",
       "</div>"
      ],
      "text/plain": [
       "  state  account length  area code phone number international plan  \\\n",
       "0    KS             128        415     382-4657                 no   \n",
       "1    OH             107        415     371-7191                 no   \n",
       "2    NJ             137        415     358-1921                 no   \n",
       "3    OH              84        408     375-9999                yes   \n",
       "4    OK              75        415     330-6626                yes   \n",
       "\n",
       "  voice mail plan  number vmail messages  total day minutes  total day calls  \\\n",
       "0             yes                     25              265.1              110   \n",
       "1             yes                     26              161.6              123   \n",
       "2              no                      0              243.4              114   \n",
       "3              no                      0              299.4               71   \n",
       "4              no                      0              166.7              113   \n",
       "\n",
       "   total day charge  ...  total eve calls  total eve charge  \\\n",
       "0             45.07  ...               99             16.78   \n",
       "1             27.47  ...              103             16.62   \n",
       "2             41.38  ...              110             10.30   \n",
       "3             50.90  ...               88              5.26   \n",
       "4             28.34  ...              122             12.61   \n",
       "\n",
       "   total night minutes  total night calls  total night charge  \\\n",
       "0                244.7                 91               11.01   \n",
       "1                254.4                103               11.45   \n",
       "2                162.6                104                7.32   \n",
       "3                196.9                 89                8.86   \n",
       "4                186.9                121                8.41   \n",
       "\n",
       "   total intl minutes  total intl calls  total intl charge  \\\n",
       "0                10.0                 3               2.70   \n",
       "1                13.7                 3               3.70   \n",
       "2                12.2                 5               3.29   \n",
       "3                 6.6                 7               1.78   \n",
       "4                10.1                 3               2.73   \n",
       "\n",
       "   customer service calls  churn  \n",
       "0                       1  False  \n",
       "1                       1  False  \n",
       "2                       0  False  \n",
       "3                       2  False  \n",
       "4                       3  False  \n",
       "\n",
       "[5 rows x 21 columns]"
      ]
     },
     "execution_count": 2,
     "metadata": {},
     "output_type": "execute_result"
    }
   ],
   "source": [
    "# using pandas to read in data\n",
    "df = pd.read_csv ('Data/telecom.csv')\n",
    "df.head()"
   ]
  },
  {
   "cell_type": "markdown",
   "metadata": {},
   "source": [
    "We can see the State column will need to be one hot encoded.  The International Plan and Voice Mail Plan columns will need to be dummy coded.  And we can probebly drop some columns that will not impact our results."
   ]
  },
  {
   "cell_type": "markdown",
   "metadata": {},
   "source": [
    "Let's clean this up and check for any missing values."
   ]
  },
  {
   "cell_type": "code",
   "execution_count": 3,
   "metadata": {},
   "outputs": [],
   "source": [
    "df.columns = df.columns.str.replace(' ', '_')"
   ]
  },
  {
   "cell_type": "code",
   "execution_count": 4,
   "metadata": {
    "scrolled": false
   },
   "outputs": [
    {
     "name": "stdout",
     "output_type": "stream",
     "text": [
      "<class 'pandas.core.frame.DataFrame'>\n",
      "RangeIndex: 3333 entries, 0 to 3332\n",
      "Data columns (total 21 columns):\n",
      " #   Column                  Non-Null Count  Dtype  \n",
      "---  ------                  --------------  -----  \n",
      " 0   state                   3333 non-null   object \n",
      " 1   account_length          3333 non-null   int64  \n",
      " 2   area_code               3333 non-null   int64  \n",
      " 3   phone_number            3333 non-null   object \n",
      " 4   international_plan      3333 non-null   object \n",
      " 5   voice_mail_plan         3333 non-null   object \n",
      " 6   number_vmail_messages   3333 non-null   int64  \n",
      " 7   total_day_minutes       3333 non-null   float64\n",
      " 8   total_day_calls         3333 non-null   int64  \n",
      " 9   total_day_charge        3333 non-null   float64\n",
      " 10  total_eve_minutes       3333 non-null   float64\n",
      " 11  total_eve_calls         3333 non-null   int64  \n",
      " 12  total_eve_charge        3333 non-null   float64\n",
      " 13  total_night_minutes     3333 non-null   float64\n",
      " 14  total_night_calls       3333 non-null   int64  \n",
      " 15  total_night_charge      3333 non-null   float64\n",
      " 16  total_intl_minutes      3333 non-null   float64\n",
      " 17  total_intl_calls        3333 non-null   int64  \n",
      " 18  total_intl_charge       3333 non-null   float64\n",
      " 19  customer_service_calls  3333 non-null   int64  \n",
      " 20  churn                   3333 non-null   bool   \n",
      "dtypes: bool(1), float64(8), int64(8), object(4)\n",
      "memory usage: 524.2+ KB\n"
     ]
    }
   ],
   "source": [
    "df.info()"
   ]
  },
  {
   "cell_type": "markdown",
   "metadata": {},
   "source": [
    "Great, no Null values.  Let's take a look at all values in all columns to get a better understanding."
   ]
  },
  {
   "cell_type": "code",
   "execution_count": 5,
   "metadata": {},
   "outputs": [],
   "source": [
    "#for col in df.columns:\n",
    "#    print(f\"{col} vals: {df[col].unique()} \\n\")"
   ]
  },
  {
   "cell_type": "markdown",
   "metadata": {},
   "source": [
    "Everything looks normal so far, except the area codes.  Only 3 area codes makes me think that column is not going to be usable.  We can also assume phone number has no bearing on wether a customer churns.  We have a few categorical variables we can dummy code:\n",
    "\n",
    "- intl plan  \n",
    "- voicemail plan  \n",
    "\n"
   ]
  },
  {
   "cell_type": "code",
   "execution_count": 6,
   "metadata": {
    "scrolled": true
   },
   "outputs": [
    {
     "data": {
      "text/html": [
       "<div>\n",
       "<style scoped>\n",
       "    .dataframe tbody tr th:only-of-type {\n",
       "        vertical-align: middle;\n",
       "    }\n",
       "\n",
       "    .dataframe tbody tr th {\n",
       "        vertical-align: top;\n",
       "    }\n",
       "\n",
       "    .dataframe thead th {\n",
       "        text-align: right;\n",
       "    }\n",
       "</style>\n",
       "<table border=\"1\" class=\"dataframe\">\n",
       "  <thead>\n",
       "    <tr style=\"text-align: right;\">\n",
       "      <th></th>\n",
       "      <th>state</th>\n",
       "      <th>account_length</th>\n",
       "      <th>area_code</th>\n",
       "      <th>phone_number</th>\n",
       "      <th>international_plan</th>\n",
       "      <th>voice_mail_plan</th>\n",
       "      <th>number_vmail_messages</th>\n",
       "      <th>total_day_minutes</th>\n",
       "      <th>total_day_calls</th>\n",
       "      <th>total_day_charge</th>\n",
       "      <th>...</th>\n",
       "      <th>total_eve_calls</th>\n",
       "      <th>total_eve_charge</th>\n",
       "      <th>total_night_minutes</th>\n",
       "      <th>total_night_calls</th>\n",
       "      <th>total_night_charge</th>\n",
       "      <th>total_intl_minutes</th>\n",
       "      <th>total_intl_calls</th>\n",
       "      <th>total_intl_charge</th>\n",
       "      <th>customer_service_calls</th>\n",
       "      <th>churn</th>\n",
       "    </tr>\n",
       "  </thead>\n",
       "  <tbody>\n",
       "    <tr>\n",
       "      <th>0</th>\n",
       "      <td>KS</td>\n",
       "      <td>128</td>\n",
       "      <td>415</td>\n",
       "      <td>382-4657</td>\n",
       "      <td>0</td>\n",
       "      <td>1</td>\n",
       "      <td>25</td>\n",
       "      <td>265.1</td>\n",
       "      <td>110</td>\n",
       "      <td>45.07</td>\n",
       "      <td>...</td>\n",
       "      <td>99</td>\n",
       "      <td>16.78</td>\n",
       "      <td>244.7</td>\n",
       "      <td>91</td>\n",
       "      <td>11.01</td>\n",
       "      <td>10.0</td>\n",
       "      <td>3</td>\n",
       "      <td>2.70</td>\n",
       "      <td>1</td>\n",
       "      <td>False</td>\n",
       "    </tr>\n",
       "    <tr>\n",
       "      <th>1</th>\n",
       "      <td>OH</td>\n",
       "      <td>107</td>\n",
       "      <td>415</td>\n",
       "      <td>371-7191</td>\n",
       "      <td>0</td>\n",
       "      <td>1</td>\n",
       "      <td>26</td>\n",
       "      <td>161.6</td>\n",
       "      <td>123</td>\n",
       "      <td>27.47</td>\n",
       "      <td>...</td>\n",
       "      <td>103</td>\n",
       "      <td>16.62</td>\n",
       "      <td>254.4</td>\n",
       "      <td>103</td>\n",
       "      <td>11.45</td>\n",
       "      <td>13.7</td>\n",
       "      <td>3</td>\n",
       "      <td>3.70</td>\n",
       "      <td>1</td>\n",
       "      <td>False</td>\n",
       "    </tr>\n",
       "    <tr>\n",
       "      <th>2</th>\n",
       "      <td>NJ</td>\n",
       "      <td>137</td>\n",
       "      <td>415</td>\n",
       "      <td>358-1921</td>\n",
       "      <td>0</td>\n",
       "      <td>0</td>\n",
       "      <td>0</td>\n",
       "      <td>243.4</td>\n",
       "      <td>114</td>\n",
       "      <td>41.38</td>\n",
       "      <td>...</td>\n",
       "      <td>110</td>\n",
       "      <td>10.30</td>\n",
       "      <td>162.6</td>\n",
       "      <td>104</td>\n",
       "      <td>7.32</td>\n",
       "      <td>12.2</td>\n",
       "      <td>5</td>\n",
       "      <td>3.29</td>\n",
       "      <td>0</td>\n",
       "      <td>False</td>\n",
       "    </tr>\n",
       "    <tr>\n",
       "      <th>3</th>\n",
       "      <td>OH</td>\n",
       "      <td>84</td>\n",
       "      <td>408</td>\n",
       "      <td>375-9999</td>\n",
       "      <td>1</td>\n",
       "      <td>0</td>\n",
       "      <td>0</td>\n",
       "      <td>299.4</td>\n",
       "      <td>71</td>\n",
       "      <td>50.90</td>\n",
       "      <td>...</td>\n",
       "      <td>88</td>\n",
       "      <td>5.26</td>\n",
       "      <td>196.9</td>\n",
       "      <td>89</td>\n",
       "      <td>8.86</td>\n",
       "      <td>6.6</td>\n",
       "      <td>7</td>\n",
       "      <td>1.78</td>\n",
       "      <td>2</td>\n",
       "      <td>False</td>\n",
       "    </tr>\n",
       "    <tr>\n",
       "      <th>4</th>\n",
       "      <td>OK</td>\n",
       "      <td>75</td>\n",
       "      <td>415</td>\n",
       "      <td>330-6626</td>\n",
       "      <td>1</td>\n",
       "      <td>0</td>\n",
       "      <td>0</td>\n",
       "      <td>166.7</td>\n",
       "      <td>113</td>\n",
       "      <td>28.34</td>\n",
       "      <td>...</td>\n",
       "      <td>122</td>\n",
       "      <td>12.61</td>\n",
       "      <td>186.9</td>\n",
       "      <td>121</td>\n",
       "      <td>8.41</td>\n",
       "      <td>10.1</td>\n",
       "      <td>3</td>\n",
       "      <td>2.73</td>\n",
       "      <td>3</td>\n",
       "      <td>False</td>\n",
       "    </tr>\n",
       "  </tbody>\n",
       "</table>\n",
       "<p>5 rows × 21 columns</p>\n",
       "</div>"
      ],
      "text/plain": [
       "  state  account_length  area_code phone_number  international_plan  \\\n",
       "0    KS             128        415     382-4657                   0   \n",
       "1    OH             107        415     371-7191                   0   \n",
       "2    NJ             137        415     358-1921                   0   \n",
       "3    OH              84        408     375-9999                   1   \n",
       "4    OK              75        415     330-6626                   1   \n",
       "\n",
       "   voice_mail_plan  number_vmail_messages  total_day_minutes  total_day_calls  \\\n",
       "0                1                     25              265.1              110   \n",
       "1                1                     26              161.6              123   \n",
       "2                0                      0              243.4              114   \n",
       "3                0                      0              299.4               71   \n",
       "4                0                      0              166.7              113   \n",
       "\n",
       "   total_day_charge  ...  total_eve_calls  total_eve_charge  \\\n",
       "0             45.07  ...               99             16.78   \n",
       "1             27.47  ...              103             16.62   \n",
       "2             41.38  ...              110             10.30   \n",
       "3             50.90  ...               88              5.26   \n",
       "4             28.34  ...              122             12.61   \n",
       "\n",
       "   total_night_minutes  total_night_calls  total_night_charge  \\\n",
       "0                244.7                 91               11.01   \n",
       "1                254.4                103               11.45   \n",
       "2                162.6                104                7.32   \n",
       "3                196.9                 89                8.86   \n",
       "4                186.9                121                8.41   \n",
       "\n",
       "   total_intl_minutes  total_intl_calls  total_intl_charge  \\\n",
       "0                10.0                 3               2.70   \n",
       "1                13.7                 3               3.70   \n",
       "2                12.2                 5               3.29   \n",
       "3                 6.6                 7               1.78   \n",
       "4                10.1                 3               2.73   \n",
       "\n",
       "   customer_service_calls  churn  \n",
       "0                       1  False  \n",
       "1                       1  False  \n",
       "2                       0  False  \n",
       "3                       2  False  \n",
       "4                       3  False  \n",
       "\n",
       "[5 rows x 21 columns]"
      ]
     },
     "execution_count": 6,
     "metadata": {},
     "output_type": "execute_result"
    }
   ],
   "source": [
    "df.replace({'no': 0, 'yes':1, 'false':0, 'true':1}, inplace=True)\n",
    "df.head()\n"
   ]
  },
  {
   "cell_type": "code",
   "execution_count": 7,
   "metadata": {},
   "outputs": [],
   "source": [
    "df.drop('phone_number', axis = 1, inplace = True)"
   ]
  },
  {
   "cell_type": "code",
   "execution_count": 8,
   "metadata": {},
   "outputs": [],
   "source": [
    "df.drop('area_code', axis = 1, inplace = True)"
   ]
  },
  {
   "cell_type": "markdown",
   "metadata": {},
   "source": [
    "I'm thinking minutes, charges, and calls are all related.  Let's take a deeper dive into this and figure it out."
   ]
  },
  {
   "cell_type": "code",
   "execution_count": 9,
   "metadata": {},
   "outputs": [
    {
     "data": {
      "text/html": [
       "<div>\n",
       "<style scoped>\n",
       "    .dataframe tbody tr th:only-of-type {\n",
       "        vertical-align: middle;\n",
       "    }\n",
       "\n",
       "    .dataframe tbody tr th {\n",
       "        vertical-align: top;\n",
       "    }\n",
       "\n",
       "    .dataframe thead th {\n",
       "        text-align: right;\n",
       "    }\n",
       "</style>\n",
       "<table border=\"1\" class=\"dataframe\">\n",
       "  <thead>\n",
       "    <tr style=\"text-align: right;\">\n",
       "      <th></th>\n",
       "      <th>total_day_minutes</th>\n",
       "      <th>total_day_calls</th>\n",
       "      <th>total_day_charge</th>\n",
       "      <th>total_eve_minutes</th>\n",
       "      <th>total_eve_calls</th>\n",
       "      <th>total_eve_charge</th>\n",
       "      <th>total_night_minutes</th>\n",
       "      <th>total_night_calls</th>\n",
       "      <th>total_night_charge</th>\n",
       "      <th>total_intl_minutes</th>\n",
       "      <th>total_intl_calls</th>\n",
       "      <th>total_intl_charge</th>\n",
       "    </tr>\n",
       "  </thead>\n",
       "  <tbody>\n",
       "    <tr>\n",
       "      <th>0</th>\n",
       "      <td>265.1</td>\n",
       "      <td>110</td>\n",
       "      <td>45.07</td>\n",
       "      <td>197.4</td>\n",
       "      <td>99</td>\n",
       "      <td>16.78</td>\n",
       "      <td>244.7</td>\n",
       "      <td>91</td>\n",
       "      <td>11.01</td>\n",
       "      <td>10.0</td>\n",
       "      <td>3</td>\n",
       "      <td>2.70</td>\n",
       "    </tr>\n",
       "    <tr>\n",
       "      <th>1</th>\n",
       "      <td>161.6</td>\n",
       "      <td>123</td>\n",
       "      <td>27.47</td>\n",
       "      <td>195.5</td>\n",
       "      <td>103</td>\n",
       "      <td>16.62</td>\n",
       "      <td>254.4</td>\n",
       "      <td>103</td>\n",
       "      <td>11.45</td>\n",
       "      <td>13.7</td>\n",
       "      <td>3</td>\n",
       "      <td>3.70</td>\n",
       "    </tr>\n",
       "    <tr>\n",
       "      <th>2</th>\n",
       "      <td>243.4</td>\n",
       "      <td>114</td>\n",
       "      <td>41.38</td>\n",
       "      <td>121.2</td>\n",
       "      <td>110</td>\n",
       "      <td>10.30</td>\n",
       "      <td>162.6</td>\n",
       "      <td>104</td>\n",
       "      <td>7.32</td>\n",
       "      <td>12.2</td>\n",
       "      <td>5</td>\n",
       "      <td>3.29</td>\n",
       "    </tr>\n",
       "    <tr>\n",
       "      <th>3</th>\n",
       "      <td>299.4</td>\n",
       "      <td>71</td>\n",
       "      <td>50.90</td>\n",
       "      <td>61.9</td>\n",
       "      <td>88</td>\n",
       "      <td>5.26</td>\n",
       "      <td>196.9</td>\n",
       "      <td>89</td>\n",
       "      <td>8.86</td>\n",
       "      <td>6.6</td>\n",
       "      <td>7</td>\n",
       "      <td>1.78</td>\n",
       "    </tr>\n",
       "    <tr>\n",
       "      <th>4</th>\n",
       "      <td>166.7</td>\n",
       "      <td>113</td>\n",
       "      <td>28.34</td>\n",
       "      <td>148.3</td>\n",
       "      <td>122</td>\n",
       "      <td>12.61</td>\n",
       "      <td>186.9</td>\n",
       "      <td>121</td>\n",
       "      <td>8.41</td>\n",
       "      <td>10.1</td>\n",
       "      <td>3</td>\n",
       "      <td>2.73</td>\n",
       "    </tr>\n",
       "  </tbody>\n",
       "</table>\n",
       "</div>"
      ],
      "text/plain": [
       "   total_day_minutes  total_day_calls  total_day_charge  total_eve_minutes  \\\n",
       "0              265.1              110             45.07              197.4   \n",
       "1              161.6              123             27.47              195.5   \n",
       "2              243.4              114             41.38              121.2   \n",
       "3              299.4               71             50.90               61.9   \n",
       "4              166.7              113             28.34              148.3   \n",
       "\n",
       "   total_eve_calls  total_eve_charge  total_night_minutes  total_night_calls  \\\n",
       "0               99             16.78                244.7                 91   \n",
       "1              103             16.62                254.4                103   \n",
       "2              110             10.30                162.6                104   \n",
       "3               88              5.26                196.9                 89   \n",
       "4              122             12.61                186.9                121   \n",
       "\n",
       "   total_night_charge  total_intl_minutes  total_intl_calls  total_intl_charge  \n",
       "0               11.01                10.0                 3               2.70  \n",
       "1               11.45                13.7                 3               3.70  \n",
       "2                7.32                12.2                 5               3.29  \n",
       "3                8.86                 6.6                 7               1.78  \n",
       "4                8.41                10.1                 3               2.73  "
      ]
     },
     "execution_count": 9,
     "metadata": {},
     "output_type": "execute_result"
    }
   ],
   "source": [
    "mins_calls_charge = df[['total_day_minutes', 'total_day_calls', 'total_day_charge', 'total_eve_minutes', 'total_eve_calls', 'total_eve_charge', 'total_night_minutes', 'total_night_calls', 'total_night_charge', 'total_intl_minutes', 'total_intl_calls', 'total_intl_charge']]\n",
    "mins_calls_charge.head()"
   ]
  },
  {
   "cell_type": "code",
   "execution_count": 10,
   "metadata": {},
   "outputs": [
    {
     "data": {
      "text/html": [
       "<div>\n",
       "<style scoped>\n",
       "    .dataframe tbody tr th:only-of-type {\n",
       "        vertical-align: middle;\n",
       "    }\n",
       "\n",
       "    .dataframe tbody tr th {\n",
       "        vertical-align: top;\n",
       "    }\n",
       "\n",
       "    .dataframe thead th {\n",
       "        text-align: right;\n",
       "    }\n",
       "</style>\n",
       "<table border=\"1\" class=\"dataframe\">\n",
       "  <thead>\n",
       "    <tr style=\"text-align: right;\">\n",
       "      <th></th>\n",
       "      <th>total_day_minutes</th>\n",
       "      <th>total_day_calls</th>\n",
       "      <th>total_day_charge</th>\n",
       "      <th>total_eve_minutes</th>\n",
       "      <th>total_eve_calls</th>\n",
       "      <th>total_eve_charge</th>\n",
       "      <th>total_night_minutes</th>\n",
       "      <th>total_night_calls</th>\n",
       "      <th>total_night_charge</th>\n",
       "      <th>total_intl_minutes</th>\n",
       "      <th>total_intl_calls</th>\n",
       "      <th>total_intl_charge</th>\n",
       "    </tr>\n",
       "  </thead>\n",
       "  <tbody>\n",
       "    <tr>\n",
       "      <th>total_day_minutes</th>\n",
       "      <td>1.000000</td>\n",
       "      <td>0.006750</td>\n",
       "      <td>1.000000</td>\n",
       "      <td>0.007043</td>\n",
       "      <td>0.015769</td>\n",
       "      <td>0.007029</td>\n",
       "      <td>0.004323</td>\n",
       "      <td>0.022972</td>\n",
       "      <td>0.004300</td>\n",
       "      <td>-0.010155</td>\n",
       "      <td>0.008033</td>\n",
       "      <td>-0.010092</td>\n",
       "    </tr>\n",
       "    <tr>\n",
       "      <th>total_day_calls</th>\n",
       "      <td>0.006750</td>\n",
       "      <td>1.000000</td>\n",
       "      <td>0.006753</td>\n",
       "      <td>-0.021451</td>\n",
       "      <td>0.006462</td>\n",
       "      <td>-0.021449</td>\n",
       "      <td>0.022938</td>\n",
       "      <td>-0.019557</td>\n",
       "      <td>0.022927</td>\n",
       "      <td>0.021565</td>\n",
       "      <td>0.004574</td>\n",
       "      <td>0.021666</td>\n",
       "    </tr>\n",
       "    <tr>\n",
       "      <th>total_day_charge</th>\n",
       "      <td>1.000000</td>\n",
       "      <td>0.006753</td>\n",
       "      <td>1.000000</td>\n",
       "      <td>0.007050</td>\n",
       "      <td>0.015769</td>\n",
       "      <td>0.007036</td>\n",
       "      <td>0.004324</td>\n",
       "      <td>0.022972</td>\n",
       "      <td>0.004301</td>\n",
       "      <td>-0.010157</td>\n",
       "      <td>0.008032</td>\n",
       "      <td>-0.010094</td>\n",
       "    </tr>\n",
       "    <tr>\n",
       "      <th>total_eve_minutes</th>\n",
       "      <td>0.007043</td>\n",
       "      <td>-0.021451</td>\n",
       "      <td>0.007050</td>\n",
       "      <td>1.000000</td>\n",
       "      <td>-0.011430</td>\n",
       "      <td>1.000000</td>\n",
       "      <td>-0.012584</td>\n",
       "      <td>0.007586</td>\n",
       "      <td>-0.012593</td>\n",
       "      <td>-0.011035</td>\n",
       "      <td>0.002541</td>\n",
       "      <td>-0.011067</td>\n",
       "    </tr>\n",
       "    <tr>\n",
       "      <th>total_eve_calls</th>\n",
       "      <td>0.015769</td>\n",
       "      <td>0.006462</td>\n",
       "      <td>0.015769</td>\n",
       "      <td>-0.011430</td>\n",
       "      <td>1.000000</td>\n",
       "      <td>-0.011423</td>\n",
       "      <td>-0.002093</td>\n",
       "      <td>0.007710</td>\n",
       "      <td>-0.002056</td>\n",
       "      <td>0.008703</td>\n",
       "      <td>0.017434</td>\n",
       "      <td>0.008674</td>\n",
       "    </tr>\n",
       "    <tr>\n",
       "      <th>total_eve_charge</th>\n",
       "      <td>0.007029</td>\n",
       "      <td>-0.021449</td>\n",
       "      <td>0.007036</td>\n",
       "      <td>1.000000</td>\n",
       "      <td>-0.011423</td>\n",
       "      <td>1.000000</td>\n",
       "      <td>-0.012592</td>\n",
       "      <td>0.007596</td>\n",
       "      <td>-0.012601</td>\n",
       "      <td>-0.011043</td>\n",
       "      <td>0.002541</td>\n",
       "      <td>-0.011074</td>\n",
       "    </tr>\n",
       "    <tr>\n",
       "      <th>total_night_minutes</th>\n",
       "      <td>0.004323</td>\n",
       "      <td>0.022938</td>\n",
       "      <td>0.004324</td>\n",
       "      <td>-0.012584</td>\n",
       "      <td>-0.002093</td>\n",
       "      <td>-0.012592</td>\n",
       "      <td>1.000000</td>\n",
       "      <td>0.011204</td>\n",
       "      <td>0.999999</td>\n",
       "      <td>-0.015207</td>\n",
       "      <td>-0.012353</td>\n",
       "      <td>-0.015180</td>\n",
       "    </tr>\n",
       "    <tr>\n",
       "      <th>total_night_calls</th>\n",
       "      <td>0.022972</td>\n",
       "      <td>-0.019557</td>\n",
       "      <td>0.022972</td>\n",
       "      <td>0.007586</td>\n",
       "      <td>0.007710</td>\n",
       "      <td>0.007596</td>\n",
       "      <td>0.011204</td>\n",
       "      <td>1.000000</td>\n",
       "      <td>0.011188</td>\n",
       "      <td>-0.013605</td>\n",
       "      <td>0.000305</td>\n",
       "      <td>-0.013630</td>\n",
       "    </tr>\n",
       "    <tr>\n",
       "      <th>total_night_charge</th>\n",
       "      <td>0.004300</td>\n",
       "      <td>0.022927</td>\n",
       "      <td>0.004301</td>\n",
       "      <td>-0.012593</td>\n",
       "      <td>-0.002056</td>\n",
       "      <td>-0.012601</td>\n",
       "      <td>0.999999</td>\n",
       "      <td>0.011188</td>\n",
       "      <td>1.000000</td>\n",
       "      <td>-0.015214</td>\n",
       "      <td>-0.012329</td>\n",
       "      <td>-0.015186</td>\n",
       "    </tr>\n",
       "    <tr>\n",
       "      <th>total_intl_minutes</th>\n",
       "      <td>-0.010155</td>\n",
       "      <td>0.021565</td>\n",
       "      <td>-0.010157</td>\n",
       "      <td>-0.011035</td>\n",
       "      <td>0.008703</td>\n",
       "      <td>-0.011043</td>\n",
       "      <td>-0.015207</td>\n",
       "      <td>-0.013605</td>\n",
       "      <td>-0.015214</td>\n",
       "      <td>1.000000</td>\n",
       "      <td>0.032304</td>\n",
       "      <td>0.999993</td>\n",
       "    </tr>\n",
       "    <tr>\n",
       "      <th>total_intl_calls</th>\n",
       "      <td>0.008033</td>\n",
       "      <td>0.004574</td>\n",
       "      <td>0.008032</td>\n",
       "      <td>0.002541</td>\n",
       "      <td>0.017434</td>\n",
       "      <td>0.002541</td>\n",
       "      <td>-0.012353</td>\n",
       "      <td>0.000305</td>\n",
       "      <td>-0.012329</td>\n",
       "      <td>0.032304</td>\n",
       "      <td>1.000000</td>\n",
       "      <td>0.032372</td>\n",
       "    </tr>\n",
       "    <tr>\n",
       "      <th>total_intl_charge</th>\n",
       "      <td>-0.010092</td>\n",
       "      <td>0.021666</td>\n",
       "      <td>-0.010094</td>\n",
       "      <td>-0.011067</td>\n",
       "      <td>0.008674</td>\n",
       "      <td>-0.011074</td>\n",
       "      <td>-0.015180</td>\n",
       "      <td>-0.013630</td>\n",
       "      <td>-0.015186</td>\n",
       "      <td>0.999993</td>\n",
       "      <td>0.032372</td>\n",
       "      <td>1.000000</td>\n",
       "    </tr>\n",
       "  </tbody>\n",
       "</table>\n",
       "</div>"
      ],
      "text/plain": [
       "                     total_day_minutes  total_day_calls  total_day_charge  \\\n",
       "total_day_minutes             1.000000         0.006750          1.000000   \n",
       "total_day_calls               0.006750         1.000000          0.006753   \n",
       "total_day_charge              1.000000         0.006753          1.000000   \n",
       "total_eve_minutes             0.007043        -0.021451          0.007050   \n",
       "total_eve_calls               0.015769         0.006462          0.015769   \n",
       "total_eve_charge              0.007029        -0.021449          0.007036   \n",
       "total_night_minutes           0.004323         0.022938          0.004324   \n",
       "total_night_calls             0.022972        -0.019557          0.022972   \n",
       "total_night_charge            0.004300         0.022927          0.004301   \n",
       "total_intl_minutes           -0.010155         0.021565         -0.010157   \n",
       "total_intl_calls              0.008033         0.004574          0.008032   \n",
       "total_intl_charge            -0.010092         0.021666         -0.010094   \n",
       "\n",
       "                     total_eve_minutes  total_eve_calls  total_eve_charge  \\\n",
       "total_day_minutes             0.007043         0.015769          0.007029   \n",
       "total_day_calls              -0.021451         0.006462         -0.021449   \n",
       "total_day_charge              0.007050         0.015769          0.007036   \n",
       "total_eve_minutes             1.000000        -0.011430          1.000000   \n",
       "total_eve_calls              -0.011430         1.000000         -0.011423   \n",
       "total_eve_charge              1.000000        -0.011423          1.000000   \n",
       "total_night_minutes          -0.012584        -0.002093         -0.012592   \n",
       "total_night_calls             0.007586         0.007710          0.007596   \n",
       "total_night_charge           -0.012593        -0.002056         -0.012601   \n",
       "total_intl_minutes           -0.011035         0.008703         -0.011043   \n",
       "total_intl_calls              0.002541         0.017434          0.002541   \n",
       "total_intl_charge            -0.011067         0.008674         -0.011074   \n",
       "\n",
       "                     total_night_minutes  total_night_calls  \\\n",
       "total_day_minutes               0.004323           0.022972   \n",
       "total_day_calls                 0.022938          -0.019557   \n",
       "total_day_charge                0.004324           0.022972   \n",
       "total_eve_minutes              -0.012584           0.007586   \n",
       "total_eve_calls                -0.002093           0.007710   \n",
       "total_eve_charge               -0.012592           0.007596   \n",
       "total_night_minutes             1.000000           0.011204   \n",
       "total_night_calls               0.011204           1.000000   \n",
       "total_night_charge              0.999999           0.011188   \n",
       "total_intl_minutes             -0.015207          -0.013605   \n",
       "total_intl_calls               -0.012353           0.000305   \n",
       "total_intl_charge              -0.015180          -0.013630   \n",
       "\n",
       "                     total_night_charge  total_intl_minutes  total_intl_calls  \\\n",
       "total_day_minutes              0.004300           -0.010155          0.008033   \n",
       "total_day_calls                0.022927            0.021565          0.004574   \n",
       "total_day_charge               0.004301           -0.010157          0.008032   \n",
       "total_eve_minutes             -0.012593           -0.011035          0.002541   \n",
       "total_eve_calls               -0.002056            0.008703          0.017434   \n",
       "total_eve_charge              -0.012601           -0.011043          0.002541   \n",
       "total_night_minutes            0.999999           -0.015207         -0.012353   \n",
       "total_night_calls              0.011188           -0.013605          0.000305   \n",
       "total_night_charge             1.000000           -0.015214         -0.012329   \n",
       "total_intl_minutes            -0.015214            1.000000          0.032304   \n",
       "total_intl_calls              -0.012329            0.032304          1.000000   \n",
       "total_intl_charge             -0.015186            0.999993          0.032372   \n",
       "\n",
       "                     total_intl_charge  \n",
       "total_day_minutes            -0.010092  \n",
       "total_day_calls               0.021666  \n",
       "total_day_charge             -0.010094  \n",
       "total_eve_minutes            -0.011067  \n",
       "total_eve_calls               0.008674  \n",
       "total_eve_charge             -0.011074  \n",
       "total_night_minutes          -0.015180  \n",
       "total_night_calls            -0.013630  \n",
       "total_night_charge           -0.015186  \n",
       "total_intl_minutes            0.999993  \n",
       "total_intl_calls              0.032372  \n",
       "total_intl_charge             1.000000  "
      ]
     },
     "execution_count": 10,
     "metadata": {},
     "output_type": "execute_result"
    }
   ],
   "source": [
    "mins_calls_charge.corr()"
   ]
  },
  {
   "cell_type": "markdown",
   "metadata": {},
   "source": [
    "OK cool.   We have direct 1:1 correlations be minutes and charges.  For that reason, we can drop the minutes columns."
   ]
  },
  {
   "cell_type": "code",
   "execution_count": 11,
   "metadata": {},
   "outputs": [],
   "source": [
    "df.drop('total_day_minutes', axis = 1, inplace = True)"
   ]
  },
  {
   "cell_type": "code",
   "execution_count": 12,
   "metadata": {},
   "outputs": [],
   "source": [
    "df.drop('total_eve_minutes', axis = 1, inplace = True)"
   ]
  },
  {
   "cell_type": "code",
   "execution_count": 13,
   "metadata": {},
   "outputs": [],
   "source": [
    "df.drop('total_night_minutes', axis = 1, inplace = True)"
   ]
  },
  {
   "cell_type": "code",
   "execution_count": 14,
   "metadata": {},
   "outputs": [],
   "source": [
    "df.drop('total_intl_minutes', axis = 1, inplace = True)"
   ]
  },
  {
   "cell_type": "code",
   "execution_count": 15,
   "metadata": {
    "scrolled": true
   },
   "outputs": [
    {
     "data": {
      "text/html": [
       "<div>\n",
       "<style scoped>\n",
       "    .dataframe tbody tr th:only-of-type {\n",
       "        vertical-align: middle;\n",
       "    }\n",
       "\n",
       "    .dataframe tbody tr th {\n",
       "        vertical-align: top;\n",
       "    }\n",
       "\n",
       "    .dataframe thead th {\n",
       "        text-align: right;\n",
       "    }\n",
       "</style>\n",
       "<table border=\"1\" class=\"dataframe\">\n",
       "  <thead>\n",
       "    <tr style=\"text-align: right;\">\n",
       "      <th></th>\n",
       "      <th>state</th>\n",
       "      <th>account_length</th>\n",
       "      <th>international_plan</th>\n",
       "      <th>voice_mail_plan</th>\n",
       "      <th>number_vmail_messages</th>\n",
       "      <th>total_day_calls</th>\n",
       "      <th>total_day_charge</th>\n",
       "      <th>total_eve_calls</th>\n",
       "      <th>total_eve_charge</th>\n",
       "      <th>total_night_calls</th>\n",
       "      <th>total_night_charge</th>\n",
       "      <th>total_intl_calls</th>\n",
       "      <th>total_intl_charge</th>\n",
       "      <th>customer_service_calls</th>\n",
       "      <th>churn</th>\n",
       "    </tr>\n",
       "  </thead>\n",
       "  <tbody>\n",
       "    <tr>\n",
       "      <th>0</th>\n",
       "      <td>KS</td>\n",
       "      <td>128</td>\n",
       "      <td>0</td>\n",
       "      <td>1</td>\n",
       "      <td>25</td>\n",
       "      <td>110</td>\n",
       "      <td>45.07</td>\n",
       "      <td>99</td>\n",
       "      <td>16.78</td>\n",
       "      <td>91</td>\n",
       "      <td>11.01</td>\n",
       "      <td>3</td>\n",
       "      <td>2.70</td>\n",
       "      <td>1</td>\n",
       "      <td>False</td>\n",
       "    </tr>\n",
       "    <tr>\n",
       "      <th>1</th>\n",
       "      <td>OH</td>\n",
       "      <td>107</td>\n",
       "      <td>0</td>\n",
       "      <td>1</td>\n",
       "      <td>26</td>\n",
       "      <td>123</td>\n",
       "      <td>27.47</td>\n",
       "      <td>103</td>\n",
       "      <td>16.62</td>\n",
       "      <td>103</td>\n",
       "      <td>11.45</td>\n",
       "      <td>3</td>\n",
       "      <td>3.70</td>\n",
       "      <td>1</td>\n",
       "      <td>False</td>\n",
       "    </tr>\n",
       "    <tr>\n",
       "      <th>2</th>\n",
       "      <td>NJ</td>\n",
       "      <td>137</td>\n",
       "      <td>0</td>\n",
       "      <td>0</td>\n",
       "      <td>0</td>\n",
       "      <td>114</td>\n",
       "      <td>41.38</td>\n",
       "      <td>110</td>\n",
       "      <td>10.30</td>\n",
       "      <td>104</td>\n",
       "      <td>7.32</td>\n",
       "      <td>5</td>\n",
       "      <td>3.29</td>\n",
       "      <td>0</td>\n",
       "      <td>False</td>\n",
       "    </tr>\n",
       "    <tr>\n",
       "      <th>3</th>\n",
       "      <td>OH</td>\n",
       "      <td>84</td>\n",
       "      <td>1</td>\n",
       "      <td>0</td>\n",
       "      <td>0</td>\n",
       "      <td>71</td>\n",
       "      <td>50.90</td>\n",
       "      <td>88</td>\n",
       "      <td>5.26</td>\n",
       "      <td>89</td>\n",
       "      <td>8.86</td>\n",
       "      <td>7</td>\n",
       "      <td>1.78</td>\n",
       "      <td>2</td>\n",
       "      <td>False</td>\n",
       "    </tr>\n",
       "    <tr>\n",
       "      <th>4</th>\n",
       "      <td>OK</td>\n",
       "      <td>75</td>\n",
       "      <td>1</td>\n",
       "      <td>0</td>\n",
       "      <td>0</td>\n",
       "      <td>113</td>\n",
       "      <td>28.34</td>\n",
       "      <td>122</td>\n",
       "      <td>12.61</td>\n",
       "      <td>121</td>\n",
       "      <td>8.41</td>\n",
       "      <td>3</td>\n",
       "      <td>2.73</td>\n",
       "      <td>3</td>\n",
       "      <td>False</td>\n",
       "    </tr>\n",
       "  </tbody>\n",
       "</table>\n",
       "</div>"
      ],
      "text/plain": [
       "  state  account_length  international_plan  voice_mail_plan  \\\n",
       "0    KS             128                   0                1   \n",
       "1    OH             107                   0                1   \n",
       "2    NJ             137                   0                0   \n",
       "3    OH              84                   1                0   \n",
       "4    OK              75                   1                0   \n",
       "\n",
       "   number_vmail_messages  total_day_calls  total_day_charge  total_eve_calls  \\\n",
       "0                     25              110             45.07               99   \n",
       "1                     26              123             27.47              103   \n",
       "2                      0              114             41.38              110   \n",
       "3                      0               71             50.90               88   \n",
       "4                      0              113             28.34              122   \n",
       "\n",
       "   total_eve_charge  total_night_calls  total_night_charge  total_intl_calls  \\\n",
       "0             16.78                 91               11.01                 3   \n",
       "1             16.62                103               11.45                 3   \n",
       "2             10.30                104                7.32                 5   \n",
       "3              5.26                 89                8.86                 7   \n",
       "4             12.61                121                8.41                 3   \n",
       "\n",
       "   total_intl_charge  customer_service_calls  churn  \n",
       "0               2.70                       1  False  \n",
       "1               3.70                       1  False  \n",
       "2               3.29                       0  False  \n",
       "3               1.78                       2  False  \n",
       "4               2.73                       3  False  "
      ]
     },
     "execution_count": 15,
     "metadata": {},
     "output_type": "execute_result"
    }
   ],
   "source": [
    "df.head()"
   ]
  },
  {
   "cell_type": "code",
   "execution_count": 16,
   "metadata": {
    "scrolled": true
   },
   "outputs": [
    {
     "data": {
      "text/plain": [
       "False    2850\n",
       "True      483\n",
       "Name: churn, dtype: int64"
      ]
     },
     "execution_count": 16,
     "metadata": {},
     "output_type": "execute_result"
    }
   ],
   "source": [
    "df['churn'].value_counts()"
   ]
  },
  {
   "cell_type": "markdown",
   "metadata": {},
   "source": [
    "Let's establish our X and Y variables. This will allow us to build our test and train sets for modeling.  \n",
    "\n",
    "Our X values are independent variables.  In this dataset that includes all values except Churn."
   ]
  },
  {
   "cell_type": "code",
   "execution_count": 17,
   "metadata": {},
   "outputs": [],
   "source": [
    "X = df.drop('churn', axis =1)\n",
    "y = df.churn"
   ]
  },
  {
   "cell_type": "markdown",
   "metadata": {},
   "source": [
    "Now that our X and Y values are established, we can prepare our training sets for modeling."
   ]
  },
  {
   "cell_type": "code",
   "execution_count": 18,
   "metadata": {},
   "outputs": [],
   "source": [
    "X_train, X_test, y_train, y_test = train_test_split(X, y, test_size = 0.25, random_state = 42)"
   ]
  },
  {
   "cell_type": "markdown",
   "metadata": {},
   "source": [
    "### One Hot Encoding\n",
    "Let's one hot encode our state column so we can build our models.  This is always good practice for categorical variables that aren't binary.  This will create extra columns and we will ahve to drop our original State column as a result."
   ]
  },
  {
   "cell_type": "code",
   "execution_count": 19,
   "metadata": {},
   "outputs": [],
   "source": [
    "# instantiate ohe object\n",
    "ohe = OneHotEncoder(sparse = False, handle_unknown = \"ignore\")\n",
    "\n",
    "# fit ohe on small train data\n",
    "ohe.fit(X_train[['state']])\n",
    "\n",
    "# access the column names of the states\n",
    "col_names = ohe.categories_[0]\n",
    "\n",
    "# make a df with encoded states\n",
    "train_state_encoded = pd.DataFrame(ohe.transform(X_train[[\"state\"]]), \n",
    "                               index = X_train.index, \n",
    "                               columns = col_names)\n",
    "\n",
    "# combine encoded states with X_t and drop old 'state' column\n",
    "X_train = pd.concat([X_train.drop(\"state\", axis = 1), train_state_encoded], axis = 1)"
   ]
  },
  {
   "cell_type": "code",
   "execution_count": 20,
   "metadata": {
    "scrolled": false
   },
   "outputs": [
    {
     "data": {
      "text/html": [
       "<div>\n",
       "<style scoped>\n",
       "    .dataframe tbody tr th:only-of-type {\n",
       "        vertical-align: middle;\n",
       "    }\n",
       "\n",
       "    .dataframe tbody tr th {\n",
       "        vertical-align: top;\n",
       "    }\n",
       "\n",
       "    .dataframe thead th {\n",
       "        text-align: right;\n",
       "    }\n",
       "</style>\n",
       "<table border=\"1\" class=\"dataframe\">\n",
       "  <thead>\n",
       "    <tr style=\"text-align: right;\">\n",
       "      <th></th>\n",
       "      <th>account_length</th>\n",
       "      <th>international_plan</th>\n",
       "      <th>voice_mail_plan</th>\n",
       "      <th>number_vmail_messages</th>\n",
       "      <th>total_day_calls</th>\n",
       "      <th>total_day_charge</th>\n",
       "      <th>total_eve_calls</th>\n",
       "      <th>total_eve_charge</th>\n",
       "      <th>total_night_calls</th>\n",
       "      <th>total_night_charge</th>\n",
       "      <th>...</th>\n",
       "      <th>SD</th>\n",
       "      <th>TN</th>\n",
       "      <th>TX</th>\n",
       "      <th>UT</th>\n",
       "      <th>VA</th>\n",
       "      <th>VT</th>\n",
       "      <th>WA</th>\n",
       "      <th>WI</th>\n",
       "      <th>WV</th>\n",
       "      <th>WY</th>\n",
       "    </tr>\n",
       "  </thead>\n",
       "  <tbody>\n",
       "    <tr>\n",
       "      <th>367</th>\n",
       "      <td>45</td>\n",
       "      <td>0</td>\n",
       "      <td>0</td>\n",
       "      <td>0</td>\n",
       "      <td>127</td>\n",
       "      <td>13.29</td>\n",
       "      <td>108</td>\n",
       "      <td>21.54</td>\n",
       "      <td>100</td>\n",
       "      <td>11.48</td>\n",
       "      <td>...</td>\n",
       "      <td>0.0</td>\n",
       "      <td>0.0</td>\n",
       "      <td>0.0</td>\n",
       "      <td>0.0</td>\n",
       "      <td>0.0</td>\n",
       "      <td>0.0</td>\n",
       "      <td>0.0</td>\n",
       "      <td>0.0</td>\n",
       "      <td>0.0</td>\n",
       "      <td>0.0</td>\n",
       "    </tr>\n",
       "    <tr>\n",
       "      <th>3103</th>\n",
       "      <td>115</td>\n",
       "      <td>0</td>\n",
       "      <td>0</td>\n",
       "      <td>0</td>\n",
       "      <td>111</td>\n",
       "      <td>33.30</td>\n",
       "      <td>108</td>\n",
       "      <td>19.30</td>\n",
       "      <td>113</td>\n",
       "      <td>14.09</td>\n",
       "      <td>...</td>\n",
       "      <td>0.0</td>\n",
       "      <td>0.0</td>\n",
       "      <td>0.0</td>\n",
       "      <td>0.0</td>\n",
       "      <td>0.0</td>\n",
       "      <td>0.0</td>\n",
       "      <td>0.0</td>\n",
       "      <td>0.0</td>\n",
       "      <td>0.0</td>\n",
       "      <td>0.0</td>\n",
       "    </tr>\n",
       "    <tr>\n",
       "      <th>549</th>\n",
       "      <td>121</td>\n",
       "      <td>0</td>\n",
       "      <td>1</td>\n",
       "      <td>31</td>\n",
       "      <td>63</td>\n",
       "      <td>40.31</td>\n",
       "      <td>117</td>\n",
       "      <td>17.48</td>\n",
       "      <td>85</td>\n",
       "      <td>8.85</td>\n",
       "      <td>...</td>\n",
       "      <td>0.0</td>\n",
       "      <td>0.0</td>\n",
       "      <td>0.0</td>\n",
       "      <td>0.0</td>\n",
       "      <td>0.0</td>\n",
       "      <td>0.0</td>\n",
       "      <td>0.0</td>\n",
       "      <td>0.0</td>\n",
       "      <td>0.0</td>\n",
       "      <td>0.0</td>\n",
       "    </tr>\n",
       "    <tr>\n",
       "      <th>2531</th>\n",
       "      <td>180</td>\n",
       "      <td>0</td>\n",
       "      <td>0</td>\n",
       "      <td>0</td>\n",
       "      <td>134</td>\n",
       "      <td>24.36</td>\n",
       "      <td>113</td>\n",
       "      <td>15.34</td>\n",
       "      <td>87</td>\n",
       "      <td>8.29</td>\n",
       "      <td>...</td>\n",
       "      <td>0.0</td>\n",
       "      <td>0.0</td>\n",
       "      <td>0.0</td>\n",
       "      <td>0.0</td>\n",
       "      <td>0.0</td>\n",
       "      <td>0.0</td>\n",
       "      <td>0.0</td>\n",
       "      <td>0.0</td>\n",
       "      <td>0.0</td>\n",
       "      <td>0.0</td>\n",
       "    </tr>\n",
       "    <tr>\n",
       "      <th>2378</th>\n",
       "      <td>112</td>\n",
       "      <td>0</td>\n",
       "      <td>0</td>\n",
       "      <td>0</td>\n",
       "      <td>122</td>\n",
       "      <td>35.05</td>\n",
       "      <td>94</td>\n",
       "      <td>13.98</td>\n",
       "      <td>101</td>\n",
       "      <td>6.31</td>\n",
       "      <td>...</td>\n",
       "      <td>0.0</td>\n",
       "      <td>0.0</td>\n",
       "      <td>0.0</td>\n",
       "      <td>0.0</td>\n",
       "      <td>0.0</td>\n",
       "      <td>0.0</td>\n",
       "      <td>0.0</td>\n",
       "      <td>0.0</td>\n",
       "      <td>0.0</td>\n",
       "      <td>0.0</td>\n",
       "    </tr>\n",
       "  </tbody>\n",
       "</table>\n",
       "<p>5 rows × 64 columns</p>\n",
       "</div>"
      ],
      "text/plain": [
       "      account_length  international_plan  voice_mail_plan  \\\n",
       "367               45                   0                0   \n",
       "3103             115                   0                0   \n",
       "549              121                   0                1   \n",
       "2531             180                   0                0   \n",
       "2378             112                   0                0   \n",
       "\n",
       "      number_vmail_messages  total_day_calls  total_day_charge  \\\n",
       "367                       0              127             13.29   \n",
       "3103                      0              111             33.30   \n",
       "549                      31               63             40.31   \n",
       "2531                      0              134             24.36   \n",
       "2378                      0              122             35.05   \n",
       "\n",
       "      total_eve_calls  total_eve_charge  total_night_calls  \\\n",
       "367               108             21.54                100   \n",
       "3103              108             19.30                113   \n",
       "549               117             17.48                 85   \n",
       "2531              113             15.34                 87   \n",
       "2378               94             13.98                101   \n",
       "\n",
       "      total_night_charge  ...   SD   TN   TX   UT   VA   VT   WA   WI   WV  \\\n",
       "367                11.48  ...  0.0  0.0  0.0  0.0  0.0  0.0  0.0  0.0  0.0   \n",
       "3103               14.09  ...  0.0  0.0  0.0  0.0  0.0  0.0  0.0  0.0  0.0   \n",
       "549                 8.85  ...  0.0  0.0  0.0  0.0  0.0  0.0  0.0  0.0  0.0   \n",
       "2531                8.29  ...  0.0  0.0  0.0  0.0  0.0  0.0  0.0  0.0  0.0   \n",
       "2378                6.31  ...  0.0  0.0  0.0  0.0  0.0  0.0  0.0  0.0  0.0   \n",
       "\n",
       "       WY  \n",
       "367   0.0  \n",
       "3103  0.0  \n",
       "549   0.0  \n",
       "2531  0.0  \n",
       "2378  0.0  \n",
       "\n",
       "[5 rows x 64 columns]"
      ]
     },
     "execution_count": 20,
     "metadata": {},
     "output_type": "execute_result"
    }
   ],
   "source": [
    "X_train.head()"
   ]
  },
  {
   "cell_type": "markdown",
   "metadata": {},
   "source": [
    "Let's inspect our training set below.  This is a portion of our original df, so expect it to be slightly smaller than the original."
   ]
  },
  {
   "cell_type": "code",
   "execution_count": 21,
   "metadata": {},
   "outputs": [
    {
     "name": "stdout",
     "output_type": "stream",
     "text": [
      "<class 'pandas.core.frame.DataFrame'>\n",
      "Int64Index: 2499 entries, 367 to 3174\n",
      "Data columns (total 64 columns):\n",
      " #   Column                  Non-Null Count  Dtype  \n",
      "---  ------                  --------------  -----  \n",
      " 0   account_length          2499 non-null   int64  \n",
      " 1   international_plan      2499 non-null   int64  \n",
      " 2   voice_mail_plan         2499 non-null   int64  \n",
      " 3   number_vmail_messages   2499 non-null   int64  \n",
      " 4   total_day_calls         2499 non-null   int64  \n",
      " 5   total_day_charge        2499 non-null   float64\n",
      " 6   total_eve_calls         2499 non-null   int64  \n",
      " 7   total_eve_charge        2499 non-null   float64\n",
      " 8   total_night_calls       2499 non-null   int64  \n",
      " 9   total_night_charge      2499 non-null   float64\n",
      " 10  total_intl_calls        2499 non-null   int64  \n",
      " 11  total_intl_charge       2499 non-null   float64\n",
      " 12  customer_service_calls  2499 non-null   int64  \n",
      " 13  AK                      2499 non-null   float64\n",
      " 14  AL                      2499 non-null   float64\n",
      " 15  AR                      2499 non-null   float64\n",
      " 16  AZ                      2499 non-null   float64\n",
      " 17  CA                      2499 non-null   float64\n",
      " 18  CO                      2499 non-null   float64\n",
      " 19  CT                      2499 non-null   float64\n",
      " 20  DC                      2499 non-null   float64\n",
      " 21  DE                      2499 non-null   float64\n",
      " 22  FL                      2499 non-null   float64\n",
      " 23  GA                      2499 non-null   float64\n",
      " 24  HI                      2499 non-null   float64\n",
      " 25  IA                      2499 non-null   float64\n",
      " 26  ID                      2499 non-null   float64\n",
      " 27  IL                      2499 non-null   float64\n",
      " 28  IN                      2499 non-null   float64\n",
      " 29  KS                      2499 non-null   float64\n",
      " 30  KY                      2499 non-null   float64\n",
      " 31  LA                      2499 non-null   float64\n",
      " 32  MA                      2499 non-null   float64\n",
      " 33  MD                      2499 non-null   float64\n",
      " 34  ME                      2499 non-null   float64\n",
      " 35  MI                      2499 non-null   float64\n",
      " 36  MN                      2499 non-null   float64\n",
      " 37  MO                      2499 non-null   float64\n",
      " 38  MS                      2499 non-null   float64\n",
      " 39  MT                      2499 non-null   float64\n",
      " 40  NC                      2499 non-null   float64\n",
      " 41  ND                      2499 non-null   float64\n",
      " 42  NE                      2499 non-null   float64\n",
      " 43  NH                      2499 non-null   float64\n",
      " 44  NJ                      2499 non-null   float64\n",
      " 45  NM                      2499 non-null   float64\n",
      " 46  NV                      2499 non-null   float64\n",
      " 47  NY                      2499 non-null   float64\n",
      " 48  OH                      2499 non-null   float64\n",
      " 49  OK                      2499 non-null   float64\n",
      " 50  OR                      2499 non-null   float64\n",
      " 51  PA                      2499 non-null   float64\n",
      " 52  RI                      2499 non-null   float64\n",
      " 53  SC                      2499 non-null   float64\n",
      " 54  SD                      2499 non-null   float64\n",
      " 55  TN                      2499 non-null   float64\n",
      " 56  TX                      2499 non-null   float64\n",
      " 57  UT                      2499 non-null   float64\n",
      " 58  VA                      2499 non-null   float64\n",
      " 59  VT                      2499 non-null   float64\n",
      " 60  WA                      2499 non-null   float64\n",
      " 61  WI                      2499 non-null   float64\n",
      " 62  WV                      2499 non-null   float64\n",
      " 63  WY                      2499 non-null   float64\n",
      "dtypes: float64(55), int64(9)\n",
      "memory usage: 1.2 MB\n"
     ]
    }
   ],
   "source": [
    "X_train.info()"
   ]
  },
  {
   "cell_type": "markdown",
   "metadata": {},
   "source": [
    "Ok, our data is cleaned up and split into test and train sets.  We can begin to build some models.  First, I want some more info on our categorical features."
   ]
  },
  {
   "cell_type": "code",
   "execution_count": 22,
   "metadata": {},
   "outputs": [
    {
     "data": {
      "text/plain": [
       "False    2850\n",
       "True      483\n",
       "Name: churn, dtype: int64"
      ]
     },
     "execution_count": 22,
     "metadata": {},
     "output_type": "execute_result"
    }
   ],
   "source": [
    "df.churn.value_counts()"
   ]
  },
  {
   "cell_type": "code",
   "execution_count": 23,
   "metadata": {
    "scrolled": false
   },
   "outputs": [
    {
     "data": {
      "text/plain": [
       "False    0.855086\n",
       "True     0.144914\n",
       "Name: churn, dtype: float64"
      ]
     },
     "execution_count": 23,
     "metadata": {},
     "output_type": "execute_result"
    }
   ],
   "source": [
    "df.churn.value_counts()/len(df.churn)"
   ]
  },
  {
   "cell_type": "markdown",
   "metadata": {},
   "source": [
    "<15% of customers churn.  This is actually industry standard, so all good. here."
   ]
  },
  {
   "cell_type": "code",
   "execution_count": 24,
   "metadata": {},
   "outputs": [
    {
     "data": {
      "text/plain": [
       "0    3010\n",
       "1     323\n",
       "Name: international_plan, dtype: int64"
      ]
     },
     "execution_count": 24,
     "metadata": {},
     "output_type": "execute_result"
    }
   ],
   "source": [
    "df.international_plan.value_counts()"
   ]
  },
  {
   "cell_type": "code",
   "execution_count": 25,
   "metadata": {},
   "outputs": [
    {
     "data": {
      "text/plain": [
       "0    0.90309\n",
       "1    0.09691\n",
       "Name: international_plan, dtype: float64"
      ]
     },
     "execution_count": 25,
     "metadata": {},
     "output_type": "execute_result"
    }
   ],
   "source": [
    "df.international_plan.value_counts()/len(df.international_plan)"
   ]
  },
  {
   "cell_type": "markdown",
   "metadata": {},
   "source": [
    "<10% of customers have international plans."
   ]
  },
  {
   "cell_type": "code",
   "execution_count": 26,
   "metadata": {},
   "outputs": [
    {
     "data": {
      "text/plain": [
       "0    0.723372\n",
       "1    0.276628\n",
       "Name: voice_mail_plan, dtype: float64"
      ]
     },
     "execution_count": 26,
     "metadata": {},
     "output_type": "execute_result"
    }
   ],
   "source": [
    "df.voice_mail_plan.value_counts()/len(df.voice_mail_plan)"
   ]
  },
  {
   "cell_type": "markdown",
   "metadata": {},
   "source": [
    "<30% have voice mail plans."
   ]
  },
  {
   "cell_type": "markdown",
   "metadata": {},
   "source": [
    "### Baseline Decision Tree Model\n",
    "\n",
    "Let's build our baseline model.  All subsequent decision tree models will be evaluated against this baseline."
   ]
  },
  {
   "cell_type": "code",
   "execution_count": 27,
   "metadata": {},
   "outputs": [],
   "source": [
    "# One-hot encode categorical features\n",
    "X_train_encoded = pd.get_dummies(X_train)\n",
    "X_test_encoded = pd.get_dummies(X_test)"
   ]
  },
  {
   "cell_type": "code",
   "execution_count": 28,
   "metadata": {},
   "outputs": [
    {
     "data": {
      "image/png": "[encoded data removed]",
      "text/plain": [
       "<Figure size 864x576 with 1 Axes>"
      ]
     },
     "metadata": {
      "needs_background": "light"
     },
     "output_type": "display_data"
    }
   ],
   "source": [
    "# Initialize and fit the decision tree classifier with the encoded data\n",
    "decision_tree_model = DecisionTreeClassifier().fit(X_train_encoded, y_train)\n",
    "\n",
    "# Predict the labels for the test set\n",
    "y_pred_dt = decision_tree_model.predict(X_test_encoded)\n",
    "\n",
    "# Now, you can proceed with plotting the decision tree or any other analysis\n",
    "plt.figure(figsize=(12, 8))\n",
    "plot_tree(decision_tree_model, filled=True, feature_names=X_train_encoded.columns, class_names=['Not Churn', 'Churn'])\n",
    "plt.title(\"Decision Tree Visualization\")\n",
    "plt.show()\n",
    "\n"
   ]
  },
  {
   "cell_type": "code",
   "execution_count": 29,
   "metadata": {},
   "outputs": [
    {
     "name": "stdout",
     "output_type": "stream",
     "text": [
      "Decision Tree Model Evaluation:\n",
      "Accuracy: 0.9112709832134293\n",
      "Classification Report:\n",
      "              precision    recall  f1-score   support\n",
      "\n",
      "       False       0.96      0.94      0.95       709\n",
      "        True       0.69      0.75      0.72       125\n",
      "\n",
      "    accuracy                           0.91       834\n",
      "   macro avg       0.82      0.85      0.83       834\n",
      "weighted avg       0.92      0.91      0.91       834\n",
      "\n"
     ]
    }
   ],
   "source": [
    "# Evaluate the model\n",
    "accuracy_dt = accuracy_score(y_test, y_pred_dt)\n",
    "classification_rep_dt = classification_report(y_test, y_pred_dt)\n",
    "\n",
    "print(\"Decision Tree Model Evaluation:\")\n",
    "print(\"Accuracy:\", accuracy_dt)\n",
    "print(\"Classification Report:\")\n",
    "print(classification_rep_dt)\n"
   ]
  },
  {
   "cell_type": "markdown",
   "metadata": {},
   "source": [
    "This is actually a realy strong baseline model.  However, we want to make sure we are focusing on the right metrics, so we will add a cross validation score and AUC score as well.\n",
    "\n",
    "To add more here:  \n",
    "**Precision** is the number of True Positives/all predicted positives or the True Positive Rate (TPR). So Precision in this case is how often the model correctly predicts the target class. \n",
    "  \n",
    "**Recall** is the number of True Positives/actual positives.  In this case, Recall is the models ability to find all objects of the target class.\n",
    "  "
   ]
  },
  {
   "cell_type": "markdown",
   "metadata": {},
   "source": [
    "### Cross Validation\n",
    "Cross Validation is a technique used to partition a dataset into multiple subsets for training.  This will help detect overfitting and give us more confidence in our model."
   ]
  },
  {
   "cell_type": "code",
   "execution_count": 30,
   "metadata": {},
   "outputs": [
    {
     "name": "stdout",
     "output_type": "stream",
     "text": [
      "Cross-Validation Scores [0.90419162 0.91017964 0.89820359 0.90419162 0.86746988]\n",
      "Mean CV Score 0.896847269316788\n"
     ]
    }
   ],
   "source": [
    "cv_scores = cross_val_score(decision_tree_model, X_test_encoded, y_test, cv=5)\n",
    "print('Cross-Validation Scores', cv_scores)\n",
    "print('Mean CV Score', cv_scores.mean())"
   ]
  },
  {
   "cell_type": "markdown",
   "metadata": {},
   "source": [
    "### Area Under the Curve  \n",
    "\n",
    "AUC measures the overall performance of our binary classification model.  We can see our True Positive Rate (TPR) on the Y-axis and our False Positive Rate (FPR) on the X-axis.  These values range from 0 to 1. "
   ]
  },
  {
   "cell_type": "code",
   "execution_count": 31,
   "metadata": {},
   "outputs": [
    {
     "data": {
      "image/png": "[encoded data removed]",
      "text/plain": [
       "<Figure size 576x432 with 1 Axes>"
      ]
     },
     "metadata": {
      "needs_background": "light"
     },
     "output_type": "display_data"
    },
    {
     "name": "stdout",
     "output_type": "stream",
     "text": [
      "0.8456755994358252\n"
     ]
    }
   ],
   "source": [
    "# Your existing code to get the probability scores and calculate ROC curve\n",
    "y_prob = decision_tree_model.predict_proba(X_test_encoded)[:, 1]\n",
    "fpr, tpr, thresholds = roc_curve(y_test, y_prob)\n",
    "\n",
    "# Plotting the ROC curve\n",
    "plt.figure(figsize=(8, 6))  # Increase the figure size\n",
    "plt.plot(fpr, tpr)\n",
    "plt.plot([0, 1], [0, 1])\n",
    "\n",
    "plt.xlim([0.0, 1.0])\n",
    "plt.ylim([0.0, 1.05])\n",
    "plt.gca().set_aspect('equal', adjustable='box')  # Adjust aspect ratio\n",
    "plt.tight_layout(pad=0)  # Remove any additional whitespace\n",
    "plt.show()\n",
    "\n",
    "roc_auc = auc(fpr, tpr)\n",
    "print(roc_auc)\n",
    "\n"
   ]
  },
  {
   "cell_type": "code",
   "execution_count": 32,
   "metadata": {
    "scrolled": true
   },
   "outputs": [
    {
     "name": "stdout",
     "output_type": "stream",
     "text": [
      "438     False\n",
      "2674    False\n",
      "1345     True\n",
      "1957    False\n",
      "2148    False\n",
      "        ...  \n",
      "3257    False\n",
      "1586    False\n",
      "3068    False\n",
      "2484    False\n",
      "219     False\n",
      "Name: churn, Length: 834, dtype: bool\n"
     ]
    }
   ],
   "source": [
    "print(y_test)"
   ]
  },
  {
   "cell_type": "markdown",
   "metadata": {},
   "source": [
    "We have made our baseline model and evaluated it on a variety of metrics.  now let's take a quick look at Feature importance.  This will help us understand which features (independent variables) are impacting our dependent variable the most."
   ]
  },
  {
   "cell_type": "markdown",
   "metadata": {},
   "source": [
    "<span style=\"font-size: 30px;\">**Feature Importance**</span>  "
   ]
  },
  {
   "cell_type": "code",
   "execution_count": 33,
   "metadata": {
    "scrolled": true
   },
   "outputs": [
    {
     "data": {
      "image/png": "[encoded data removed]",
      "text/plain": [
       "<Figure size 1440x720 with 1 Axes>"
      ]
     },
     "metadata": {
      "needs_background": "light"
     },
     "output_type": "display_data"
    }
   ],
   "source": [
    " X_train_final= pd.DataFrame(X_train_encoded,columns=X_train.columns)\n",
    "\n",
    "feature_importances = decision_tree_model.feature_importances_\n",
    "\n",
    "feature_names = X_train_final.columns\n",
    "indices = np.argsort(feature_importances)[::-1]\n",
    "\n",
    "plt.figure(figsize=(20, 10))\n",
    "plt.title(\"Feature Importances\")\n",
    "plt.bar(range(X_train_final.shape[1]), feature_importances[indices], color=\"b\", align=\"center\")\n",
    "plt.xticks(range(X_train_final.shape[1]), feature_names[indices], rotation=90)\n",
    "plt.xlim([-1, X_train_final.shape[1]])\n",
    "plt.tight_layout()\n",
    "plt.show()"
   ]
  },
  {
   "cell_type": "markdown",
   "metadata": {},
   "source": [
    "Lots of unimportant features.  Lets reduce this list down to the top 15, since most of the states don't carry much weght here."
   ]
  },
  {
   "cell_type": "code",
   "execution_count": 34,
   "metadata": {},
   "outputs": [
    {
     "data": {
      "image/png": "[encoded data removed]",
      "text/plain": [
       "<Figure size 1440x720 with 1 Axes>"
      ]
     },
     "metadata": {
      "needs_background": "light"
     },
     "output_type": "display_data"
    }
   ],
   "source": [
    " X_train_final= pd.DataFrame(X_train_encoded,columns=X_train.columns)\n",
    "\n",
    "feature_importances = decision_tree_model.feature_importances_\n",
    "\n",
    "feature_names = X_train_final.columns\n",
    "indices = np.argsort(feature_importances)[::-1][:15]\n",
    "\n",
    "plt.figure(figsize=(20, 10))\n",
    "plt.title(\"Feature Importance\")\n",
    "plt.bar(range(15), feature_importances[indices], color=\"b\", align=\"center\")\n",
    "plt.xticks(range(15), feature_names[indices], rotation=90)\n",
    "plt.xlim([-1, 15])\n",
    "plt.tight_layout()\n",
    "plt.show()"
   ]
  },
  {
   "cell_type": "markdown",
   "metadata": {},
   "source": [
    "We can see that the most impactful features are:\n",
    "- total_day_charge  \n",
    "- total_eve_charge  \n",
    "- customer_service_calls "
   ]
  },
  {
   "cell_type": "code",
   "execution_count": 35,
   "metadata": {},
   "outputs": [
    {
     "data": {
      "text/plain": [
       "churn                     1.000000\n",
       "international_plan        0.259852\n",
       "customer_service_calls    0.208750\n",
       "total_day_charge          0.205151\n",
       "total_eve_charge          0.092786\n",
       "total_intl_charge         0.068259\n",
       "total_night_charge        0.035496\n",
       "total_day_calls           0.018459\n",
       "account_length            0.016541\n",
       "total_eve_calls           0.009233\n",
       "total_night_calls         0.006141\n",
       "total_intl_calls         -0.052844\n",
       "number_vmail_messages    -0.089728\n",
       "voice_mail_plan          -0.102148\n",
       "Name: churn, dtype: float64"
      ]
     },
     "execution_count": 35,
     "metadata": {},
     "output_type": "execute_result"
    }
   ],
   "source": [
    "df.corr().churn.sort_values(ascending=False)"
   ]
  },
  {
   "cell_type": "markdown",
   "metadata": {},
   "source": [
    "hmm, this is slightly different than what we are seeing above.  However, we can deal with this later.\n",
    "\n",
    "Let's take a look at the <span style=\"font-size: 15px;\">**Categorical Features**</span> above and check the ratios.  \n",
    "1st up is the International Plan.\n"
   ]
  },
  {
   "cell_type": "code",
   "execution_count": 36,
   "metadata": {},
   "outputs": [
    {
     "data": {
      "text/html": [
       "<div>\n",
       "<style scoped>\n",
       "    .dataframe tbody tr th:only-of-type {\n",
       "        vertical-align: middle;\n",
       "    }\n",
       "\n",
       "    .dataframe tbody tr th {\n",
       "        vertical-align: top;\n",
       "    }\n",
       "\n",
       "    .dataframe thead th {\n",
       "        text-align: right;\n",
       "    }\n",
       "</style>\n",
       "<table border=\"1\" class=\"dataframe\">\n",
       "  <thead>\n",
       "    <tr style=\"text-align: right;\">\n",
       "      <th></th>\n",
       "      <th>churn</th>\n",
       "    </tr>\n",
       "    <tr>\n",
       "      <th>international_plan</th>\n",
       "      <th></th>\n",
       "    </tr>\n",
       "  </thead>\n",
       "  <tbody>\n",
       "    <tr>\n",
       "      <th>0</th>\n",
       "      <td>0.114950</td>\n",
       "    </tr>\n",
       "    <tr>\n",
       "      <th>1</th>\n",
       "      <td>0.424149</td>\n",
       "    </tr>\n",
       "  </tbody>\n",
       "</table>\n",
       "</div>"
      ],
      "text/plain": [
       "                       churn\n",
       "international_plan          \n",
       "0                   0.114950\n",
       "1                   0.424149"
      ]
     },
     "execution_count": 36,
     "metadata": {},
     "output_type": "execute_result"
    }
   ],
   "source": [
    "int_plan_churn = pd.DataFrame(df.groupby(['international_plan'])['churn'].mean())\n",
    "int_plan_churn"
   ]
  },
  {
   "cell_type": "code",
   "execution_count": 37,
   "metadata": {
    "scrolled": true
   },
   "outputs": [
    {
     "data": {
      "image/png": "[encoded data removed]",
      "text/plain": [
       "<Figure size 1080x576 with 1 Axes>"
      ]
     },
     "metadata": {
      "needs_background": "light"
     },
     "output_type": "display_data"
    }
   ],
   "source": [
    "fig, ax = plt.subplots(figsize=(15,8))\n",
    "sns.barplot(x = [0, 1], y = 'churn', data = int_plan_churn, ax = ax)\n",
    "plt.title('Percentage of Customer Churn for International Plan Holders', fontsize = 25)\n",
    "ax.tick_params(axis = 'both', labelsize = 15)\n",
    "plt.xlabel('International Plan True/False', fontsize = 20)\n",
    "plt.ylabel('Churn Rate', fontsize = 20)\n",
    "ax.set_xticklabels(['No International Plan', 'Has International Plan'])\n",
    "plt.tight_layout()\n"
   ]
  },
  {
   "cell_type": "markdown",
   "metadata": {},
   "source": [
    "OK! we can see that customers who have international plans churn at a much higher rate than customers who don't.  Maybe they are unhappy with their monthly bill?  Maybe taking a look at customer service calls could shed some light on this.  I would assume customers who make more customer service calls are probably not happy customers and therefore churning.    \n",
    "  \n",
    "    \n",
    "Let's take a look at the values for <span style=\"font-size: 15px;\">**Customer Service Calls**</span> next."
   ]
  },
  {
   "cell_type": "code",
   "execution_count": 38,
   "metadata": {},
   "outputs": [
    {
     "data": {
      "text/plain": [
       "1    1181\n",
       "2     759\n",
       "0     697\n",
       "3     429\n",
       "4     166\n",
       "5      66\n",
       "6      22\n",
       "7       9\n",
       "9       2\n",
       "8       2\n",
       "Name: customer_service_calls, dtype: int64"
      ]
     },
     "execution_count": 38,
     "metadata": {},
     "output_type": "execute_result"
    }
   ],
   "source": [
    "df['customer_service_calls'].value_counts()"
   ]
  },
  {
   "cell_type": "markdown",
   "metadata": {},
   "source": [
    "Most customers aren't making that many customer service calls.  I'm assuming everyone makes one setting up their phone plan.  Let's look for some <span style=\"font-size: 15px;\">**Correlations**</span>."
   ]
  },
  {
   "cell_type": "code",
   "execution_count": 39,
   "metadata": {},
   "outputs": [
    {
     "data": {
      "text/html": [
       "<div>\n",
       "<style scoped>\n",
       "    .dataframe tbody tr th:only-of-type {\n",
       "        vertical-align: middle;\n",
       "    }\n",
       "\n",
       "    .dataframe tbody tr th {\n",
       "        vertical-align: top;\n",
       "    }\n",
       "\n",
       "    .dataframe thead th {\n",
       "        text-align: right;\n",
       "    }\n",
       "</style>\n",
       "<table border=\"1\" class=\"dataframe\">\n",
       "  <thead>\n",
       "    <tr style=\"text-align: right;\">\n",
       "      <th></th>\n",
       "      <th>churn</th>\n",
       "    </tr>\n",
       "    <tr>\n",
       "      <th>customer_service_calls</th>\n",
       "      <th></th>\n",
       "    </tr>\n",
       "  </thead>\n",
       "  <tbody>\n",
       "    <tr>\n",
       "      <th>0</th>\n",
       "      <td>0.131994</td>\n",
       "    </tr>\n",
       "    <tr>\n",
       "      <th>1</th>\n",
       "      <td>0.103302</td>\n",
       "    </tr>\n",
       "    <tr>\n",
       "      <th>2</th>\n",
       "      <td>0.114625</td>\n",
       "    </tr>\n",
       "    <tr>\n",
       "      <th>3</th>\n",
       "      <td>0.102564</td>\n",
       "    </tr>\n",
       "    <tr>\n",
       "      <th>4</th>\n",
       "      <td>0.457831</td>\n",
       "    </tr>\n",
       "    <tr>\n",
       "      <th>5</th>\n",
       "      <td>0.606061</td>\n",
       "    </tr>\n",
       "    <tr>\n",
       "      <th>6</th>\n",
       "      <td>0.636364</td>\n",
       "    </tr>\n",
       "    <tr>\n",
       "      <th>7</th>\n",
       "      <td>0.555556</td>\n",
       "    </tr>\n",
       "    <tr>\n",
       "      <th>8</th>\n",
       "      <td>0.500000</td>\n",
       "    </tr>\n",
       "    <tr>\n",
       "      <th>9</th>\n",
       "      <td>1.000000</td>\n",
       "    </tr>\n",
       "  </tbody>\n",
       "</table>\n",
       "</div>"
      ],
      "text/plain": [
       "                           churn\n",
       "customer_service_calls          \n",
       "0                       0.131994\n",
       "1                       0.103302\n",
       "2                       0.114625\n",
       "3                       0.102564\n",
       "4                       0.457831\n",
       "5                       0.606061\n",
       "6                       0.636364\n",
       "7                       0.555556\n",
       "8                       0.500000\n",
       "9                       1.000000"
      ]
     },
     "execution_count": 39,
     "metadata": {},
     "output_type": "execute_result"
    }
   ],
   "source": [
    "csc = pd.DataFrame(df.groupby(['customer_service_calls'])['churn'].mean())\n",
    "csc"
   ]
  },
  {
   "cell_type": "markdown",
   "metadata": {},
   "source": [
    "As we suspected, customers who make more customer service calls tend to churn at higher rates.    \n",
    "Maybe the company needs to look into better customer service.  \n",
    "  \n",
    "  \n",
    "Let's take a look at the Distribution of <span style=\"font-size: 15px;\">**Total Day Charge**</span>.    "
   ]
  },
  {
   "cell_type": "code",
   "execution_count": 40,
   "metadata": {},
   "outputs": [
    {
     "data": {
      "image/png": "[encoded data removed]",
      "text/plain": [
       "<Figure size 720x432 with 1 Axes>"
      ]
     },
     "metadata": {
      "needs_background": "light"
     },
     "output_type": "display_data"
    }
   ],
   "source": [
    "total_day_charge_values = df['total_day_charge']\n",
    "plt.figure(figsize=(10, 6))\n",
    "sns.histplot(total_day_charge_values, bins=20, color='skyblue', edgecolor='black', kde=True)\n",
    "plt.title('Distribution of Total Day Charge')\n",
    "plt.xlabel('Total Day Charge')\n",
    "plt.ylabel('Frequency')\n",
    "plt.grid(True)\n",
    "plt.show()"
   ]
  },
  {
   "cell_type": "markdown",
   "metadata": {},
   "source": [
    "It's a **normal distribution.**  I'm going to find the mean of 'total_day_charge' to see if there is a threshold for customers who churn once the spend a certain amount."
   ]
  },
  {
   "cell_type": "code",
   "execution_count": 41,
   "metadata": {
    "scrolled": true
   },
   "outputs": [
    {
     "data": {
      "text/html": [
       "<div>\n",
       "<style scoped>\n",
       "    .dataframe tbody tr th:only-of-type {\n",
       "        vertical-align: middle;\n",
       "    }\n",
       "\n",
       "    .dataframe tbody tr th {\n",
       "        vertical-align: top;\n",
       "    }\n",
       "\n",
       "    .dataframe thead th {\n",
       "        text-align: right;\n",
       "    }\n",
       "</style>\n",
       "<table border=\"1\" class=\"dataframe\">\n",
       "  <thead>\n",
       "    <tr style=\"text-align: right;\">\n",
       "      <th></th>\n",
       "      <th>churn</th>\n",
       "    </tr>\n",
       "    <tr>\n",
       "      <th>total_day_charge</th>\n",
       "      <th></th>\n",
       "    </tr>\n",
       "  </thead>\n",
       "  <tbody>\n",
       "    <tr>\n",
       "      <th>0.00</th>\n",
       "      <td>0.5</td>\n",
       "    </tr>\n",
       "    <tr>\n",
       "      <th>0.44</th>\n",
       "      <td>0.0</td>\n",
       "    </tr>\n",
       "    <tr>\n",
       "      <th>1.33</th>\n",
       "      <td>0.0</td>\n",
       "    </tr>\n",
       "    <tr>\n",
       "      <th>1.34</th>\n",
       "      <td>0.0</td>\n",
       "    </tr>\n",
       "    <tr>\n",
       "      <th>2.13</th>\n",
       "      <td>0.0</td>\n",
       "    </tr>\n",
       "    <tr>\n",
       "      <th>...</th>\n",
       "      <td>...</td>\n",
       "    </tr>\n",
       "    <tr>\n",
       "      <th>57.04</th>\n",
       "      <td>1.0</td>\n",
       "    </tr>\n",
       "    <tr>\n",
       "      <th>57.36</th>\n",
       "      <td>1.0</td>\n",
       "    </tr>\n",
       "    <tr>\n",
       "      <th>58.70</th>\n",
       "      <td>1.0</td>\n",
       "    </tr>\n",
       "    <tr>\n",
       "      <th>58.96</th>\n",
       "      <td>1.0</td>\n",
       "    </tr>\n",
       "    <tr>\n",
       "      <th>59.64</th>\n",
       "      <td>1.0</td>\n",
       "    </tr>\n",
       "  </tbody>\n",
       "</table>\n",
       "<p>1667 rows × 1 columns</p>\n",
       "</div>"
      ],
      "text/plain": [
       "                  churn\n",
       "total_day_charge       \n",
       "0.00                0.5\n",
       "0.44                0.0\n",
       "1.33                0.0\n",
       "1.34                0.0\n",
       "2.13                0.0\n",
       "...                 ...\n",
       "57.04               1.0\n",
       "57.36               1.0\n",
       "58.70               1.0\n",
       "58.96               1.0\n",
       "59.64               1.0\n",
       "\n",
       "[1667 rows x 1 columns]"
      ]
     },
     "execution_count": 41,
     "metadata": {},
     "output_type": "execute_result"
    }
   ],
   "source": [
    "tdc = pd.DataFrame(df.groupby(['total_day_charge'])['churn'].mean())\n",
    "tdc"
   ]
  },
  {
   "cell_type": "code",
   "execution_count": 42,
   "metadata": {},
   "outputs": [
    {
     "name": "stdout",
     "output_type": "stream",
     "text": [
      "Range of 'total_day_charge' column:\n",
      "Minimum: 0.0\n",
      "Maximum: 59.64\n"
     ]
    }
   ],
   "source": [
    "# Assuming 'total_day_charge' is a column in your DataFrame df\n",
    "total_day_charge_range = df['total_day_charge'].describe()\n",
    "\n",
    "print(\"Range of 'total_day_charge' column:\")\n",
    "print(\"Minimum:\", total_day_charge_range['min'])\n",
    "print(\"Maximum:\", total_day_charge_range['max'])\n"
   ]
  },
  {
   "cell_type": "markdown",
   "metadata": {},
   "source": [
    "We can see the max 'total_day_charge value is $59.64/day.  And we can see that as customers get close to that value, they have a 100% churn rate."
   ]
  },
  {
   "cell_type": "markdown",
   "metadata": {},
   "source": [
    "### **Improving The Baseline Model**\n",
    "\n",
    "We have done some evaluation of our categorical features and determined the following customers are **likely to churn**:\n",
    "\n",
    "-  customers who make multiple customer service calls   \n",
    "-  customers who have a high daily bill  \n",
    "-  customers who have an international plan\n",
    "\n",
    "We can see that the same will be true for customers with high eve and night charges as well.\n",
    "\n",
    "Now let's try to improve upon our baseline model.  We can do the following to improve upon our baseline model:\n",
    "\n",
    "-  Feature Scaling\n",
    "-  Under/Over sampling\n",
    "-  Hyper Parameter Tuning\n",
    "\n",
    "After we have improved this model, we will build a logistic regression model as well.\n",
    "\n"
   ]
  },
  {
   "cell_type": "markdown",
   "metadata": {},
   "source": [
    "I'll move our Decision Tree Classifier back down here for reference:"
   ]
  },
  {
   "cell_type": "code",
   "execution_count": 43,
   "metadata": {
    "scrolled": false
   },
   "outputs": [
    {
     "data": {
      "image/png": "[encoded data removed]",
      "text/plain": [
       "<Figure size 864x576 with 1 Axes>"
      ]
     },
     "metadata": {
      "needs_background": "light"
     },
     "output_type": "display_data"
    },
    {
     "name": "stdout",
     "output_type": "stream",
     "text": [
      "Decision Tree Model Evaluation:\n",
      "Accuracy: 0.9256594724220624\n",
      "Classification Report:\n",
      "              precision    recall  f1-score   support\n",
      "\n",
      "       False       0.96      0.96      0.96       709\n",
      "        True       0.75      0.75      0.75       125\n",
      "\n",
      "    accuracy                           0.93       834\n",
      "   macro avg       0.85      0.85      0.85       834\n",
      "weighted avg       0.93      0.93      0.93       834\n",
      "\n"
     ]
    }
   ],
   "source": [
    "# Initialize and fit the decision tree classifier with the encoded data\n",
    "decision_tree_model = DecisionTreeClassifier().fit(X_train_encoded, y_train)\n",
    "\n",
    "# Predict the labels for the test set\n",
    "y_pred_dt = decision_tree_model.predict(X_test_encoded)\n",
    "\n",
    "# Now, you can proceed with plotting the decision tree or any other analysis\n",
    "plt.figure(figsize=(12, 8))\n",
    "plot_tree(decision_tree_model, filled=True, feature_names=X_train_encoded.columns, class_names=['Not Churn', 'Churn'])\n",
    "plt.title(\"Decision Tree Visualization\")\n",
    "plt.show()\n",
    "# Evaluate the model\n",
    "accuracy_dt = accuracy_score(y_test, y_pred_dt)\n",
    "classification_rep_dt = classification_report(y_test, y_pred_dt)\n",
    "\n",
    "print(\"Decision Tree Model Evaluation:\")\n",
    "print(\"Accuracy:\", accuracy_dt)\n",
    "print(\"Classification Report:\")\n",
    "print(classification_rep_dt)"
   ]
  },
  {
   "cell_type": "code",
   "execution_count": 44,
   "metadata": {},
   "outputs": [
    {
     "name": "stdout",
     "output_type": "stream",
     "text": [
      "Cross-Validation Scores [0.91017964 0.91616766 0.88023952 0.90419162 0.86746988]\n",
      "Mean CV Score 0.895649664526369\n"
     ]
    }
   ],
   "source": [
    "cv_scores = cross_val_score(decision_tree_model, X_test_encoded, y_test, cv=5)\n",
    "print('Cross-Validation Scores', cv_scores)\n",
    "print('Mean CV Score', cv_scores.mean())"
   ]
  },
  {
   "cell_type": "code",
   "execution_count": 45,
   "metadata": {
    "scrolled": true
   },
   "outputs": [
    {
     "data": {
      "image/png": "[encoded data removed]",
      "text/plain": [
       "<Figure size 576x432 with 1 Axes>"
      ]
     },
     "metadata": {
      "needs_background": "light"
     },
     "output_type": "display_data"
    },
    {
     "name": "stdout",
     "output_type": "stream",
     "text": [
      "0.8541382228490833\n"
     ]
    }
   ],
   "source": [
    "# Your existing code to get the probability scores and calculate ROC curve\n",
    "y_prob = decision_tree_model.predict_proba(X_test_encoded)[:, 1]\n",
    "fpr, tpr, thresholds = roc_curve(y_test, y_prob)\n",
    "\n",
    "# Plotting the ROC curve\n",
    "plt.figure(figsize=(8, 6))  # Increase the figure size\n",
    "plt.plot(fpr, tpr)\n",
    "plt.plot([0, 1], [0, 1])\n",
    "\n",
    "plt.xlim([0.0, 1.0])\n",
    "plt.ylim([0.0, 1.05])\n",
    "plt.gca().set_aspect('equal', adjustable='box')  # Adjust aspect ratio\n",
    "plt.tight_layout(pad=0)  # Remove any additional whitespace\n",
    "plt.show()\n",
    "\n",
    "roc_auc = auc(fpr, tpr)\n",
    "print(roc_auc)\n"
   ]
  },
  {
   "cell_type": "markdown",
   "metadata": {},
   "source": [
    "To reiterate, our baseline model has the following scores:\n",
    "  \n",
    "-  Accuracy = 91.9%\n",
    "-  Precision = 73% (we are focused on true Positives)\n",
    "-  Cross Validation = 90%\n",
    "-  AUC = 84.7%"
   ]
  },
  {
   "cell_type": "markdown",
   "metadata": {},
   "source": [
    "### **Feature Scaling**\n",
    "\n",
    "Feature scaling will normalize the range of all continous variables between -1 and 1.  This will ultimately reduce the value of extreme values in our dataset."
   ]
  },
  {
   "cell_type": "code",
   "execution_count": 46,
   "metadata": {},
   "outputs": [],
   "source": [
    "standard = StandardScaler()\n",
    "X_train_final = standard.fit_transform(X_train_encoded)"
   ]
  },
  {
   "cell_type": "code",
   "execution_count": 47,
   "metadata": {},
   "outputs": [],
   "source": [
    "X_test_final = standard.transform(X_test_encoded)"
   ]
  },
  {
   "cell_type": "code",
   "execution_count": 48,
   "metadata": {},
   "outputs": [
    {
     "data": {
      "text/plain": [
       "array([[-1.4045081 , -0.32744767, -0.61141784, ..., -0.16341668,\n",
       "        -0.17589939, -0.15550025],\n",
       "       [ 0.36638814, -0.32744767, -0.61141784, ..., -0.16341668,\n",
       "        -0.17589939, -0.15550025],\n",
       "       [ 0.51817924, -0.32744767,  1.63554272, ..., -0.16341668,\n",
       "        -0.17589939, -0.15550025],\n",
       "       ...,\n",
       "       [-0.87323923, -0.32744767, -0.61141784, ..., -0.16341668,\n",
       "        -0.17589939, -0.15550025],\n",
       "       [ 1.73250809, -0.32744767, -0.61141784, ..., -0.16341668,\n",
       "        -0.17589939, -0.15550025],\n",
       "       [-1.63219476, -0.32744767,  1.63554272, ..., -0.16341668,\n",
       "        -0.17589939, -0.15550025]])"
      ]
     },
     "execution_count": 48,
     "metadata": {},
     "output_type": "execute_result"
    }
   ],
   "source": [
    "X_train_final"
   ]
  },
  {
   "cell_type": "code",
   "execution_count": 49,
   "metadata": {
    "scrolled": true
   },
   "outputs": [
    {
     "data": {
      "text/html": [
       "<div>\n",
       "<style scoped>\n",
       "    .dataframe tbody tr th:only-of-type {\n",
       "        vertical-align: middle;\n",
       "    }\n",
       "\n",
       "    .dataframe tbody tr th {\n",
       "        vertical-align: top;\n",
       "    }\n",
       "\n",
       "    .dataframe thead th {\n",
       "        text-align: right;\n",
       "    }\n",
       "</style>\n",
       "<table border=\"1\" class=\"dataframe\">\n",
       "  <thead>\n",
       "    <tr style=\"text-align: right;\">\n",
       "      <th></th>\n",
       "      <th>0</th>\n",
       "      <th>1</th>\n",
       "      <th>2</th>\n",
       "      <th>3</th>\n",
       "      <th>4</th>\n",
       "      <th>5</th>\n",
       "      <th>6</th>\n",
       "      <th>7</th>\n",
       "      <th>8</th>\n",
       "      <th>9</th>\n",
       "      <th>...</th>\n",
       "      <th>54</th>\n",
       "      <th>55</th>\n",
       "      <th>56</th>\n",
       "      <th>57</th>\n",
       "      <th>58</th>\n",
       "      <th>59</th>\n",
       "      <th>60</th>\n",
       "      <th>61</th>\n",
       "      <th>62</th>\n",
       "      <th>63</th>\n",
       "    </tr>\n",
       "  </thead>\n",
       "  <tbody>\n",
       "    <tr>\n",
       "      <th>0</th>\n",
       "      <td>-1.404508</td>\n",
       "      <td>-0.327448</td>\n",
       "      <td>-0.611418</td>\n",
       "      <td>-0.584700</td>\n",
       "      <td>1.330852</td>\n",
       "      <td>-1.884170</td>\n",
       "      <td>0.401340</td>\n",
       "      <td>1.037905</td>\n",
       "      <td>0.004940</td>\n",
       "      <td>1.071757</td>\n",
       "      <td>...</td>\n",
       "      <td>-0.139942</td>\n",
       "      <td>-0.130744</td>\n",
       "      <td>-0.150014</td>\n",
       "      <td>-0.144338</td>\n",
       "      <td>-0.156845</td>\n",
       "      <td>-0.144338</td>\n",
       "      <td>-0.147201</td>\n",
       "      <td>-0.163417</td>\n",
       "      <td>-0.175899</td>\n",
       "      <td>-0.1555</td>\n",
       "    </tr>\n",
       "    <tr>\n",
       "      <th>1</th>\n",
       "      <td>0.366388</td>\n",
       "      <td>-0.327448</td>\n",
       "      <td>-0.611418</td>\n",
       "      <td>-0.584700</td>\n",
       "      <td>0.529165</td>\n",
       "      <td>0.293703</td>\n",
       "      <td>0.401340</td>\n",
       "      <td>0.517286</td>\n",
       "      <td>0.670832</td>\n",
       "      <td>2.212569</td>\n",
       "      <td>...</td>\n",
       "      <td>-0.139942</td>\n",
       "      <td>-0.130744</td>\n",
       "      <td>-0.150014</td>\n",
       "      <td>-0.144338</td>\n",
       "      <td>-0.156845</td>\n",
       "      <td>-0.144338</td>\n",
       "      <td>-0.147201</td>\n",
       "      <td>-0.163417</td>\n",
       "      <td>-0.175899</td>\n",
       "      <td>-0.1555</td>\n",
       "    </tr>\n",
       "    <tr>\n",
       "      <th>2</th>\n",
       "      <td>0.518179</td>\n",
       "      <td>-0.327448</td>\n",
       "      <td>1.635543</td>\n",
       "      <td>1.685101</td>\n",
       "      <td>-1.875896</td>\n",
       "      <td>1.056666</td>\n",
       "      <td>0.849774</td>\n",
       "      <td>0.094283</td>\n",
       "      <td>-0.763398</td>\n",
       "      <td>-0.077797</td>\n",
       "      <td>...</td>\n",
       "      <td>-0.139942</td>\n",
       "      <td>-0.130744</td>\n",
       "      <td>-0.150014</td>\n",
       "      <td>-0.144338</td>\n",
       "      <td>-0.156845</td>\n",
       "      <td>-0.144338</td>\n",
       "      <td>-0.147201</td>\n",
       "      <td>-0.163417</td>\n",
       "      <td>-0.175899</td>\n",
       "      <td>-0.1555</td>\n",
       "    </tr>\n",
       "    <tr>\n",
       "      <th>3</th>\n",
       "      <td>2.010792</td>\n",
       "      <td>-0.327448</td>\n",
       "      <td>-0.611418</td>\n",
       "      <td>-0.584700</td>\n",
       "      <td>1.681590</td>\n",
       "      <td>-0.679320</td>\n",
       "      <td>0.650470</td>\n",
       "      <td>-0.403094</td>\n",
       "      <td>-0.660953</td>\n",
       "      <td>-0.322569</td>\n",
       "      <td>...</td>\n",
       "      <td>-0.139942</td>\n",
       "      <td>-0.130744</td>\n",
       "      <td>-0.150014</td>\n",
       "      <td>-0.144338</td>\n",
       "      <td>-0.156845</td>\n",
       "      <td>-0.144338</td>\n",
       "      <td>-0.147201</td>\n",
       "      <td>-0.163417</td>\n",
       "      <td>-0.175899</td>\n",
       "      <td>-0.1555</td>\n",
       "    </tr>\n",
       "    <tr>\n",
       "      <th>4</th>\n",
       "      <td>0.290493</td>\n",
       "      <td>-0.327448</td>\n",
       "      <td>-0.611418</td>\n",
       "      <td>-0.584700</td>\n",
       "      <td>1.080325</td>\n",
       "      <td>0.484172</td>\n",
       "      <td>-0.296224</td>\n",
       "      <td>-0.719184</td>\n",
       "      <td>0.056162</td>\n",
       "      <td>-1.188013</td>\n",
       "      <td>...</td>\n",
       "      <td>-0.139942</td>\n",
       "      <td>-0.130744</td>\n",
       "      <td>-0.150014</td>\n",
       "      <td>-0.144338</td>\n",
       "      <td>-0.156845</td>\n",
       "      <td>-0.144338</td>\n",
       "      <td>-0.147201</td>\n",
       "      <td>-0.163417</td>\n",
       "      <td>-0.175899</td>\n",
       "      <td>-0.1555</td>\n",
       "    </tr>\n",
       "    <tr>\n",
       "      <th>...</th>\n",
       "      <td>...</td>\n",
       "      <td>...</td>\n",
       "      <td>...</td>\n",
       "      <td>...</td>\n",
       "      <td>...</td>\n",
       "      <td>...</td>\n",
       "      <td>...</td>\n",
       "      <td>...</td>\n",
       "      <td>...</td>\n",
       "      <td>...</td>\n",
       "      <td>...</td>\n",
       "      <td>...</td>\n",
       "      <td>...</td>\n",
       "      <td>...</td>\n",
       "      <td>...</td>\n",
       "      <td>...</td>\n",
       "      <td>...</td>\n",
       "      <td>...</td>\n",
       "      <td>...</td>\n",
       "      <td>...</td>\n",
       "      <td>...</td>\n",
       "    </tr>\n",
       "    <tr>\n",
       "      <th>2494</th>\n",
       "      <td>0.138701</td>\n",
       "      <td>-0.327448</td>\n",
       "      <td>-0.611418</td>\n",
       "      <td>-0.584700</td>\n",
       "      <td>0.980114</td>\n",
       "      <td>1.746707</td>\n",
       "      <td>-0.894137</td>\n",
       "      <td>-0.045169</td>\n",
       "      <td>-1.941515</td>\n",
       "      <td>-0.781516</td>\n",
       "      <td>...</td>\n",
       "      <td>-0.139942</td>\n",
       "      <td>-0.130744</td>\n",
       "      <td>-0.150014</td>\n",
       "      <td>-0.144338</td>\n",
       "      <td>-0.156845</td>\n",
       "      <td>-0.144338</td>\n",
       "      <td>-0.147201</td>\n",
       "      <td>-0.163417</td>\n",
       "      <td>-0.175899</td>\n",
       "      <td>-0.1555</td>\n",
       "    </tr>\n",
       "    <tr>\n",
       "      <th>2495</th>\n",
       "      <td>0.543478</td>\n",
       "      <td>-0.327448</td>\n",
       "      <td>-0.611418</td>\n",
       "      <td>-0.584700</td>\n",
       "      <td>-1.926002</td>\n",
       "      <td>-2.680873</td>\n",
       "      <td>-0.545355</td>\n",
       "      <td>-0.396122</td>\n",
       "      <td>-2.146405</td>\n",
       "      <td>1.001822</td>\n",
       "      <td>...</td>\n",
       "      <td>-0.139942</td>\n",
       "      <td>-0.130744</td>\n",
       "      <td>-0.150014</td>\n",
       "      <td>-0.144338</td>\n",
       "      <td>-0.156845</td>\n",
       "      <td>-0.144338</td>\n",
       "      <td>-0.147201</td>\n",
       "      <td>-0.163417</td>\n",
       "      <td>-0.175899</td>\n",
       "      <td>-0.1555</td>\n",
       "    </tr>\n",
       "    <tr>\n",
       "      <th>2496</th>\n",
       "      <td>-0.873239</td>\n",
       "      <td>-0.327448</td>\n",
       "      <td>-0.611418</td>\n",
       "      <td>-0.584700</td>\n",
       "      <td>-1.224526</td>\n",
       "      <td>-1.710027</td>\n",
       "      <td>0.550818</td>\n",
       "      <td>1.207571</td>\n",
       "      <td>1.285502</td>\n",
       "      <td>-0.313827</td>\n",
       "      <td>...</td>\n",
       "      <td>-0.139942</td>\n",
       "      <td>-0.130744</td>\n",
       "      <td>-0.150014</td>\n",
       "      <td>-0.144338</td>\n",
       "      <td>-0.156845</td>\n",
       "      <td>-0.144338</td>\n",
       "      <td>-0.147201</td>\n",
       "      <td>-0.163417</td>\n",
       "      <td>-0.175899</td>\n",
       "      <td>-0.1555</td>\n",
       "    </tr>\n",
       "    <tr>\n",
       "      <th>2497</th>\n",
       "      <td>1.732508</td>\n",
       "      <td>-0.327448</td>\n",
       "      <td>-0.611418</td>\n",
       "      <td>-0.584700</td>\n",
       "      <td>0.529165</td>\n",
       "      <td>-0.015400</td>\n",
       "      <td>1.497512</td>\n",
       "      <td>-0.507683</td>\n",
       "      <td>-0.404840</td>\n",
       "      <td>0.551617</td>\n",
       "      <td>...</td>\n",
       "      <td>-0.139942</td>\n",
       "      <td>-0.130744</td>\n",
       "      <td>-0.150014</td>\n",
       "      <td>-0.144338</td>\n",
       "      <td>-0.156845</td>\n",
       "      <td>-0.144338</td>\n",
       "      <td>-0.147201</td>\n",
       "      <td>-0.163417</td>\n",
       "      <td>-0.175899</td>\n",
       "      <td>-0.1555</td>\n",
       "    </tr>\n",
       "    <tr>\n",
       "      <th>2498</th>\n",
       "      <td>-1.632195</td>\n",
       "      <td>-0.327448</td>\n",
       "      <td>1.635543</td>\n",
       "      <td>2.563733</td>\n",
       "      <td>1.130430</td>\n",
       "      <td>-2.777740</td>\n",
       "      <td>0.849774</td>\n",
       "      <td>-1.418766</td>\n",
       "      <td>0.261052</td>\n",
       "      <td>2.466083</td>\n",
       "      <td>...</td>\n",
       "      <td>-0.139942</td>\n",
       "      <td>-0.130744</td>\n",
       "      <td>-0.150014</td>\n",
       "      <td>-0.144338</td>\n",
       "      <td>-0.156845</td>\n",
       "      <td>-0.144338</td>\n",
       "      <td>-0.147201</td>\n",
       "      <td>-0.163417</td>\n",
       "      <td>-0.175899</td>\n",
       "      <td>-0.1555</td>\n",
       "    </tr>\n",
       "  </tbody>\n",
       "</table>\n",
       "<p>2499 rows × 64 columns</p>\n",
       "</div>"
      ],
      "text/plain": [
       "            0         1         2         3         4         5         6   \\\n",
       "0    -1.404508 -0.327448 -0.611418 -0.584700  1.330852 -1.884170  0.401340   \n",
       "1     0.366388 -0.327448 -0.611418 -0.584700  0.529165  0.293703  0.401340   \n",
       "2     0.518179 -0.327448  1.635543  1.685101 -1.875896  1.056666  0.849774   \n",
       "3     2.010792 -0.327448 -0.611418 -0.584700  1.681590 -0.679320  0.650470   \n",
       "4     0.290493 -0.327448 -0.611418 -0.584700  1.080325  0.484172 -0.296224   \n",
       "...        ...       ...       ...       ...       ...       ...       ...   \n",
       "2494  0.138701 -0.327448 -0.611418 -0.584700  0.980114  1.746707 -0.894137   \n",
       "2495  0.543478 -0.327448 -0.611418 -0.584700 -1.926002 -2.680873 -0.545355   \n",
       "2496 -0.873239 -0.327448 -0.611418 -0.584700 -1.224526 -1.710027  0.550818   \n",
       "2497  1.732508 -0.327448 -0.611418 -0.584700  0.529165 -0.015400  1.497512   \n",
       "2498 -1.632195 -0.327448  1.635543  2.563733  1.130430 -2.777740  0.849774   \n",
       "\n",
       "            7         8         9   ...        54        55        56  \\\n",
       "0     1.037905  0.004940  1.071757  ... -0.139942 -0.130744 -0.150014   \n",
       "1     0.517286  0.670832  2.212569  ... -0.139942 -0.130744 -0.150014   \n",
       "2     0.094283 -0.763398 -0.077797  ... -0.139942 -0.130744 -0.150014   \n",
       "3    -0.403094 -0.660953 -0.322569  ... -0.139942 -0.130744 -0.150014   \n",
       "4    -0.719184  0.056162 -1.188013  ... -0.139942 -0.130744 -0.150014   \n",
       "...        ...       ...       ...  ...       ...       ...       ...   \n",
       "2494 -0.045169 -1.941515 -0.781516  ... -0.139942 -0.130744 -0.150014   \n",
       "2495 -0.396122 -2.146405  1.001822  ... -0.139942 -0.130744 -0.150014   \n",
       "2496  1.207571  1.285502 -0.313827  ... -0.139942 -0.130744 -0.150014   \n",
       "2497 -0.507683 -0.404840  0.551617  ... -0.139942 -0.130744 -0.150014   \n",
       "2498 -1.418766  0.261052  2.466083  ... -0.139942 -0.130744 -0.150014   \n",
       "\n",
       "            57        58        59        60        61        62      63  \n",
       "0    -0.144338 -0.156845 -0.144338 -0.147201 -0.163417 -0.175899 -0.1555  \n",
       "1    -0.144338 -0.156845 -0.144338 -0.147201 -0.163417 -0.175899 -0.1555  \n",
       "2    -0.144338 -0.156845 -0.144338 -0.147201 -0.163417 -0.175899 -0.1555  \n",
       "3    -0.144338 -0.156845 -0.144338 -0.147201 -0.163417 -0.175899 -0.1555  \n",
       "4    -0.144338 -0.156845 -0.144338 -0.147201 -0.163417 -0.175899 -0.1555  \n",
       "...        ...       ...       ...       ...       ...       ...     ...  \n",
       "2494 -0.144338 -0.156845 -0.144338 -0.147201 -0.163417 -0.175899 -0.1555  \n",
       "2495 -0.144338 -0.156845 -0.144338 -0.147201 -0.163417 -0.175899 -0.1555  \n",
       "2496 -0.144338 -0.156845 -0.144338 -0.147201 -0.163417 -0.175899 -0.1555  \n",
       "2497 -0.144338 -0.156845 -0.144338 -0.147201 -0.163417 -0.175899 -0.1555  \n",
       "2498 -0.144338 -0.156845 -0.144338 -0.147201 -0.163417 -0.175899 -0.1555  \n",
       "\n",
       "[2499 rows x 64 columns]"
      ]
     },
     "execution_count": 49,
     "metadata": {},
     "output_type": "execute_result"
    }
   ],
   "source": [
    "my_df1 = pd.DataFrame(X_train_final)\n",
    "my_df1"
   ]
  },
  {
   "cell_type": "code",
   "execution_count": 50,
   "metadata": {},
   "outputs": [],
   "source": [
    "my_df1_copy = my_df1.copy()"
   ]
  },
  {
   "cell_type": "code",
   "execution_count": 51,
   "metadata": {
    "scrolled": false
   },
   "outputs": [
    {
     "data": {
      "text/html": [
       "<div>\n",
       "<style scoped>\n",
       "    .dataframe tbody tr th:only-of-type {\n",
       "        vertical-align: middle;\n",
       "    }\n",
       "\n",
       "    .dataframe tbody tr th {\n",
       "        vertical-align: top;\n",
       "    }\n",
       "\n",
       "    .dataframe thead th {\n",
       "        text-align: right;\n",
       "    }\n",
       "</style>\n",
       "<table border=\"1\" class=\"dataframe\">\n",
       "  <thead>\n",
       "    <tr style=\"text-align: right;\">\n",
       "      <th></th>\n",
       "      <th>0</th>\n",
       "      <th>1</th>\n",
       "      <th>2</th>\n",
       "      <th>3</th>\n",
       "      <th>4</th>\n",
       "      <th>5</th>\n",
       "      <th>6</th>\n",
       "      <th>7</th>\n",
       "      <th>8</th>\n",
       "      <th>9</th>\n",
       "      <th>...</th>\n",
       "      <th>54</th>\n",
       "      <th>55</th>\n",
       "      <th>56</th>\n",
       "      <th>57</th>\n",
       "      <th>58</th>\n",
       "      <th>59</th>\n",
       "      <th>60</th>\n",
       "      <th>61</th>\n",
       "      <th>62</th>\n",
       "      <th>63</th>\n",
       "    </tr>\n",
       "  </thead>\n",
       "  <tbody>\n",
       "    <tr>\n",
       "      <th>0</th>\n",
       "      <td>0.315791</td>\n",
       "      <td>-0.327448</td>\n",
       "      <td>-0.611418</td>\n",
       "      <td>-0.584700</td>\n",
       "      <td>-0.372733</td>\n",
       "      <td>-0.462730</td>\n",
       "      <td>0.301688</td>\n",
       "      <td>2.562574</td>\n",
       "      <td>1.183057</td>\n",
       "      <td>-0.222038</td>\n",
       "      <td>...</td>\n",
       "      <td>-0.139942</td>\n",
       "      <td>-0.130744</td>\n",
       "      <td>-0.150014</td>\n",
       "      <td>-0.144338</td>\n",
       "      <td>-0.156845</td>\n",
       "      <td>-0.144338</td>\n",
       "      <td>-0.147201</td>\n",
       "      <td>-0.163417</td>\n",
       "      <td>-0.175899</td>\n",
       "      <td>6.430858</td>\n",
       "    </tr>\n",
       "    <tr>\n",
       "      <th>1</th>\n",
       "      <td>-0.847941</td>\n",
       "      <td>-0.327448</td>\n",
       "      <td>-0.611418</td>\n",
       "      <td>-0.584700</td>\n",
       "      <td>0.829797</td>\n",
       "      <td>-1.311676</td>\n",
       "      <td>1.198556</td>\n",
       "      <td>0.326702</td>\n",
       "      <td>2.105062</td>\n",
       "      <td>-0.239521</td>\n",
       "      <td>...</td>\n",
       "      <td>-0.139942</td>\n",
       "      <td>-0.130744</td>\n",
       "      <td>-0.150014</td>\n",
       "      <td>-0.144338</td>\n",
       "      <td>-0.156845</td>\n",
       "      <td>-0.144338</td>\n",
       "      <td>-0.147201</td>\n",
       "      <td>-0.163417</td>\n",
       "      <td>-0.175899</td>\n",
       "      <td>-0.155500</td>\n",
       "    </tr>\n",
       "    <tr>\n",
       "      <th>2</th>\n",
       "      <td>-0.063687</td>\n",
       "      <td>-0.327448</td>\n",
       "      <td>-0.611418</td>\n",
       "      <td>-0.584700</td>\n",
       "      <td>-5.032539</td>\n",
       "      <td>-3.330643</td>\n",
       "      <td>1.497512</td>\n",
       "      <td>-0.814476</td>\n",
       "      <td>-0.609730</td>\n",
       "      <td>-0.659130</td>\n",
       "      <td>...</td>\n",
       "      <td>7.145803</td>\n",
       "      <td>-0.130744</td>\n",
       "      <td>-0.150014</td>\n",
       "      <td>-0.144338</td>\n",
       "      <td>-0.156845</td>\n",
       "      <td>-0.144338</td>\n",
       "      <td>-0.147201</td>\n",
       "      <td>-0.163417</td>\n",
       "      <td>-0.175899</td>\n",
       "      <td>-0.155500</td>\n",
       "    </tr>\n",
       "    <tr>\n",
       "      <th>3</th>\n",
       "      <td>1.175941</td>\n",
       "      <td>-0.327448</td>\n",
       "      <td>-0.611418</td>\n",
       "      <td>-0.584700</td>\n",
       "      <td>-1.074209</td>\n",
       "      <td>0.607160</td>\n",
       "      <td>-0.445702</td>\n",
       "      <td>0.064068</td>\n",
       "      <td>0.670832</td>\n",
       "      <td>-0.873306</td>\n",
       "      <td>...</td>\n",
       "      <td>-0.139942</td>\n",
       "      <td>-0.130744</td>\n",
       "      <td>-0.150014</td>\n",
       "      <td>-0.144338</td>\n",
       "      <td>-0.156845</td>\n",
       "      <td>-0.144338</td>\n",
       "      <td>-0.147201</td>\n",
       "      <td>-0.163417</td>\n",
       "      <td>-0.175899</td>\n",
       "      <td>-0.155500</td>\n",
       "    </tr>\n",
       "    <tr>\n",
       "      <th>4</th>\n",
       "      <td>-0.114284</td>\n",
       "      <td>-0.327448</td>\n",
       "      <td>-0.611418</td>\n",
       "      <td>-0.584700</td>\n",
       "      <td>0.078216</td>\n",
       "      <td>-0.666259</td>\n",
       "      <td>-1.342571</td>\n",
       "      <td>0.470802</td>\n",
       "      <td>-0.456063</td>\n",
       "      <td>0.534133</td>\n",
       "      <td>...</td>\n",
       "      <td>-0.139942</td>\n",
       "      <td>-0.130744</td>\n",
       "      <td>-0.150014</td>\n",
       "      <td>-0.144338</td>\n",
       "      <td>-0.156845</td>\n",
       "      <td>-0.144338</td>\n",
       "      <td>-0.147201</td>\n",
       "      <td>-0.163417</td>\n",
       "      <td>-0.175899</td>\n",
       "      <td>6.430858</td>\n",
       "    </tr>\n",
       "    <tr>\n",
       "      <th>...</th>\n",
       "      <td>...</td>\n",
       "      <td>...</td>\n",
       "      <td>...</td>\n",
       "      <td>...</td>\n",
       "      <td>...</td>\n",
       "      <td>...</td>\n",
       "      <td>...</td>\n",
       "      <td>...</td>\n",
       "      <td>...</td>\n",
       "      <td>...</td>\n",
       "      <td>...</td>\n",
       "      <td>...</td>\n",
       "      <td>...</td>\n",
       "      <td>...</td>\n",
       "      <td>...</td>\n",
       "      <td>...</td>\n",
       "      <td>...</td>\n",
       "      <td>...</td>\n",
       "      <td>...</td>\n",
       "      <td>...</td>\n",
       "      <td>...</td>\n",
       "    </tr>\n",
       "    <tr>\n",
       "      <th>829</th>\n",
       "      <td>1.783105</td>\n",
       "      <td>-0.327448</td>\n",
       "      <td>-0.611418</td>\n",
       "      <td>-0.584700</td>\n",
       "      <td>0.479059</td>\n",
       "      <td>-0.785982</td>\n",
       "      <td>0.451166</td>\n",
       "      <td>-0.054466</td>\n",
       "      <td>1.592837</td>\n",
       "      <td>1.810444</td>\n",
       "      <td>...</td>\n",
       "      <td>-0.139942</td>\n",
       "      <td>-0.130744</td>\n",
       "      <td>-0.150014</td>\n",
       "      <td>-0.144338</td>\n",
       "      <td>-0.156845</td>\n",
       "      <td>-0.144338</td>\n",
       "      <td>-0.147201</td>\n",
       "      <td>-0.163417</td>\n",
       "      <td>-0.175899</td>\n",
       "      <td>-0.155500</td>\n",
       "    </tr>\n",
       "    <tr>\n",
       "      <th>830</th>\n",
       "      <td>-0.291373</td>\n",
       "      <td>-0.327448</td>\n",
       "      <td>-0.611418</td>\n",
       "      <td>-0.584700</td>\n",
       "      <td>-1.174420</td>\n",
       "      <td>-1.807982</td>\n",
       "      <td>-0.993789</td>\n",
       "      <td>-0.665728</td>\n",
       "      <td>-1.531735</td>\n",
       "      <td>-0.117135</td>\n",
       "      <td>...</td>\n",
       "      <td>-0.139942</td>\n",
       "      <td>-0.130744</td>\n",
       "      <td>-0.150014</td>\n",
       "      <td>-0.144338</td>\n",
       "      <td>-0.156845</td>\n",
       "      <td>-0.144338</td>\n",
       "      <td>-0.147201</td>\n",
       "      <td>-0.163417</td>\n",
       "      <td>-0.175899</td>\n",
       "      <td>-0.155500</td>\n",
       "    </tr>\n",
       "    <tr>\n",
       "      <th>831</th>\n",
       "      <td>-0.569657</td>\n",
       "      <td>-0.327448</td>\n",
       "      <td>1.635543</td>\n",
       "      <td>0.952907</td>\n",
       "      <td>-0.773577</td>\n",
       "      <td>-0.359332</td>\n",
       "      <td>-1.043615</td>\n",
       "      <td>0.438263</td>\n",
       "      <td>-0.404840</td>\n",
       "      <td>-1.507090</td>\n",
       "      <td>...</td>\n",
       "      <td>-0.139942</td>\n",
       "      <td>-0.130744</td>\n",
       "      <td>-0.150014</td>\n",
       "      <td>-0.144338</td>\n",
       "      <td>-0.156845</td>\n",
       "      <td>-0.144338</td>\n",
       "      <td>-0.147201</td>\n",
       "      <td>-0.163417</td>\n",
       "      <td>-0.175899</td>\n",
       "      <td>-0.155500</td>\n",
       "    </tr>\n",
       "    <tr>\n",
       "      <th>832</th>\n",
       "      <td>1.024150</td>\n",
       "      <td>-0.327448</td>\n",
       "      <td>1.635543</td>\n",
       "      <td>2.270856</td>\n",
       "      <td>1.330852</td>\n",
       "      <td>-1.168008</td>\n",
       "      <td>-0.595181</td>\n",
       "      <td>1.493446</td>\n",
       "      <td>1.285502</td>\n",
       "      <td>1.757993</td>\n",
       "      <td>...</td>\n",
       "      <td>-0.139942</td>\n",
       "      <td>-0.130744</td>\n",
       "      <td>-0.150014</td>\n",
       "      <td>-0.144338</td>\n",
       "      <td>-0.156845</td>\n",
       "      <td>-0.144338</td>\n",
       "      <td>-0.147201</td>\n",
       "      <td>-0.163417</td>\n",
       "      <td>-0.175899</td>\n",
       "      <td>-0.155500</td>\n",
       "    </tr>\n",
       "    <tr>\n",
       "      <th>833</th>\n",
       "      <td>0.138701</td>\n",
       "      <td>-0.327448</td>\n",
       "      <td>-0.611418</td>\n",
       "      <td>-0.584700</td>\n",
       "      <td>1.030219</td>\n",
       "      <td>0.795452</td>\n",
       "      <td>-0.096920</td>\n",
       "      <td>-1.792961</td>\n",
       "      <td>0.363497</td>\n",
       "      <td>-0.235150</td>\n",
       "      <td>...</td>\n",
       "      <td>-0.139942</td>\n",
       "      <td>-0.130744</td>\n",
       "      <td>-0.150014</td>\n",
       "      <td>-0.144338</td>\n",
       "      <td>-0.156845</td>\n",
       "      <td>-0.144338</td>\n",
       "      <td>-0.147201</td>\n",
       "      <td>-0.163417</td>\n",
       "      <td>-0.175899</td>\n",
       "      <td>-0.155500</td>\n",
       "    </tr>\n",
       "  </tbody>\n",
       "</table>\n",
       "<p>834 rows × 64 columns</p>\n",
       "</div>"
      ],
      "text/plain": [
       "           0         1         2         3         4         5         6   \\\n",
       "0    0.315791 -0.327448 -0.611418 -0.584700 -0.372733 -0.462730  0.301688   \n",
       "1   -0.847941 -0.327448 -0.611418 -0.584700  0.829797 -1.311676  1.198556   \n",
       "2   -0.063687 -0.327448 -0.611418 -0.584700 -5.032539 -3.330643  1.497512   \n",
       "3    1.175941 -0.327448 -0.611418 -0.584700 -1.074209  0.607160 -0.445702   \n",
       "4   -0.114284 -0.327448 -0.611418 -0.584700  0.078216 -0.666259 -1.342571   \n",
       "..        ...       ...       ...       ...       ...       ...       ...   \n",
       "829  1.783105 -0.327448 -0.611418 -0.584700  0.479059 -0.785982  0.451166   \n",
       "830 -0.291373 -0.327448 -0.611418 -0.584700 -1.174420 -1.807982 -0.993789   \n",
       "831 -0.569657 -0.327448  1.635543  0.952907 -0.773577 -0.359332 -1.043615   \n",
       "832  1.024150 -0.327448  1.635543  2.270856  1.330852 -1.168008 -0.595181   \n",
       "833  0.138701 -0.327448 -0.611418 -0.584700  1.030219  0.795452 -0.096920   \n",
       "\n",
       "           7         8         9   ...        54        55        56  \\\n",
       "0    2.562574  1.183057 -0.222038  ... -0.139942 -0.130744 -0.150014   \n",
       "1    0.326702  2.105062 -0.239521  ... -0.139942 -0.130744 -0.150014   \n",
       "2   -0.814476 -0.609730 -0.659130  ...  7.145803 -0.130744 -0.150014   \n",
       "3    0.064068  0.670832 -0.873306  ... -0.139942 -0.130744 -0.150014   \n",
       "4    0.470802 -0.456063  0.534133  ... -0.139942 -0.130744 -0.150014   \n",
       "..        ...       ...       ...  ...       ...       ...       ...   \n",
       "829 -0.054466  1.592837  1.810444  ... -0.139942 -0.130744 -0.150014   \n",
       "830 -0.665728 -1.531735 -0.117135  ... -0.139942 -0.130744 -0.150014   \n",
       "831  0.438263 -0.404840 -1.507090  ... -0.139942 -0.130744 -0.150014   \n",
       "832  1.493446  1.285502  1.757993  ... -0.139942 -0.130744 -0.150014   \n",
       "833 -1.792961  0.363497 -0.235150  ... -0.139942 -0.130744 -0.150014   \n",
       "\n",
       "           57        58        59        60        61        62        63  \n",
       "0   -0.144338 -0.156845 -0.144338 -0.147201 -0.163417 -0.175899  6.430858  \n",
       "1   -0.144338 -0.156845 -0.144338 -0.147201 -0.163417 -0.175899 -0.155500  \n",
       "2   -0.144338 -0.156845 -0.144338 -0.147201 -0.163417 -0.175899 -0.155500  \n",
       "3   -0.144338 -0.156845 -0.144338 -0.147201 -0.163417 -0.175899 -0.155500  \n",
       "4   -0.144338 -0.156845 -0.144338 -0.147201 -0.163417 -0.175899  6.430858  \n",
       "..        ...       ...       ...       ...       ...       ...       ...  \n",
       "829 -0.144338 -0.156845 -0.144338 -0.147201 -0.163417 -0.175899 -0.155500  \n",
       "830 -0.144338 -0.156845 -0.144338 -0.147201 -0.163417 -0.175899 -0.155500  \n",
       "831 -0.144338 -0.156845 -0.144338 -0.147201 -0.163417 -0.175899 -0.155500  \n",
       "832 -0.144338 -0.156845 -0.144338 -0.147201 -0.163417 -0.175899 -0.155500  \n",
       "833 -0.144338 -0.156845 -0.144338 -0.147201 -0.163417 -0.175899 -0.155500  \n",
       "\n",
       "[834 rows x 64 columns]"
      ]
     },
     "execution_count": 51,
     "metadata": {},
     "output_type": "execute_result"
    }
   ],
   "source": [
    "my_df2 = pd.DataFrame(X_test_final)\n",
    "my_df2"
   ]
  },
  {
   "cell_type": "code",
   "execution_count": 52,
   "metadata": {},
   "outputs": [],
   "source": [
    "my_df2_copy = my_df2.copy()"
   ]
  },
  {
   "cell_type": "markdown",
   "metadata": {},
   "source": [
    "### Feature Scaled Model\n",
    "\n",
    "As you can see above, all of our continuous variables are now **scaled between -1 and 1**.  This should improve the model.\n",
    "\n"
   ]
  },
  {
   "cell_type": "code",
   "execution_count": 53,
   "metadata": {
    "scrolled": true
   },
   "outputs": [
    {
     "data": {
      "image/png": "[encoded data removed]",
      "text/plain": [
       "<Figure size 864x576 with 1 Axes>"
      ]
     },
     "metadata": {
      "needs_background": "light"
     },
     "output_type": "display_data"
    },
    {
     "name": "stdout",
     "output_type": "stream",
     "text": [
      "Decision Tree Model Evaluation:\n",
      "Accuracy: 0.9232613908872902\n",
      "Classification Report:\n",
      "              precision    recall  f1-score   support\n",
      "\n",
      "       False       0.96      0.95      0.95       709\n",
      "        True       0.74      0.75      0.75       125\n",
      "\n",
      "    accuracy                           0.92       834\n",
      "   macro avg       0.85      0.85      0.85       834\n",
      "weighted avg       0.92      0.92      0.92       834\n",
      "\n"
     ]
    }
   ],
   "source": [
    "# Initialize and fit the decision tree classifier with the encoded data\n",
    "decision_tree_model_fs = DecisionTreeClassifier().fit(my_df1, y_train)\n",
    "\n",
    "# Predict the labels for the test set\n",
    "y_pred_dt = decision_tree_model_fs.predict(my_df2)\n",
    "\n",
    "# Now, you can proceed with plotting the decision tree or any other analysis\n",
    "plt.figure(figsize=(12, 8))\n",
    "plot_tree(decision_tree_model, filled=True, feature_names=my_df1.columns, class_names=['Not Churn', 'Churn'])\n",
    "plt.title(\"Decision Tree Visualization\")\n",
    "plt.show()\n",
    "# Evaluate the model\n",
    "accuracy_dt = accuracy_score(y_test, y_pred_dt)\n",
    "classification_rep_dt = classification_report(y_test, y_pred_dt)\n",
    "\n",
    "print(\"Decision Tree Model Evaluation:\")\n",
    "print(\"Accuracy:\", accuracy_dt)\n",
    "print(\"Classification Report:\")\n",
    "print(classification_rep_dt)"
   ]
  },
  {
   "cell_type": "code",
   "execution_count": 54,
   "metadata": {},
   "outputs": [
    {
     "name": "stdout",
     "output_type": "stream",
     "text": [
      "Cross-Validation Scores [0.88622754 0.92814371 0.89221557 0.89820359 0.86746988]\n",
      "Mean CV Score 0.8944520597359498\n"
     ]
    }
   ],
   "source": [
    "cv_scores_fs = cross_val_score(decision_tree_model_fs, my_df2_copy, y_test, cv=5)\n",
    "print('Cross-Validation Scores', cv_scores_fs)\n",
    "print('Mean CV Score', cv_scores_fs.mean())"
   ]
  },
  {
   "cell_type": "code",
   "execution_count": 55,
   "metadata": {
    "scrolled": true
   },
   "outputs": [
    {
     "data": {
      "image/png": "[encoded data removed]",
      "text/plain": [
       "<Figure size 576x432 with 1 Axes>"
      ]
     },
     "metadata": {
      "needs_background": "light"
     },
     "output_type": "display_data"
    },
    {
     "name": "stdout",
     "output_type": "stream",
     "text": [
      "0.8527277856135402\n"
     ]
    }
   ],
   "source": [
    "# Your existing code to get the probability scores and calculate ROC curve\n",
    "y_prob = decision_tree_model_fs.predict_proba(my_df2_copy)[:, 1]\n",
    "fpr, tpr, thresholds = roc_curve(y_test, y_prob)\n",
    "\n",
    "# Plotting the ROC curve\n",
    "plt.figure(figsize=(8, 6))  # Increase the figure size\n",
    "plt.plot(fpr, tpr)\n",
    "plt.plot([0, 1], [0, 1])\n",
    "\n",
    "plt.xlim([0.0, 1.0])\n",
    "plt.ylim([0.0, 1.05])\n",
    "plt.gca().set_aspect('equal', adjustable='box')  # Adjust aspect ratio\n",
    "plt.tight_layout(pad=0)  # Remove any additional whitespace\n",
    "plt.show()\n",
    "\n",
    "roc_auc = auc(fpr, tpr)\n",
    "print(roc_auc)\n"
   ]
  },
  {
   "cell_type": "markdown",
   "metadata": {},
   "source": [
    "To reiterate, our baseline model has the following scores:\n",
    "\n",
    "Accuracy = 91.9%  \n",
    "Precision = 73% (we are focused on true Positives)  \n",
    "Cross Validation = 90%  \n",
    "AUC = 84.7%  "
   ]
  },
  {
   "cell_type": "markdown",
   "metadata": {},
   "source": [
    "The Feature Scaled Mode is not accurate, so let's keep trying.  Here are the scores for reference:\n",
    "    \n",
    "Accuracy = 90%  \n",
    "Precision = 67% (we are focused on true Positives)  \n",
    "Cross Validation = 89%  \n",
    "AUC = 83.9%      "
   ]
  },
  {
   "cell_type": "markdown",
   "metadata": {},
   "source": [
    "Feature scaling did not necessarily improve our model.  Let's try SMOTE to fix the class imbalance issue."
   ]
  },
  {
   "cell_type": "markdown",
   "metadata": {},
   "source": [
    "<span style=\"font-size: 30px;\">**SMOTE**</span>\n",
    "\n",
    "SMOTE is used for class imbalance.  Specifically, it is used for oversampling the minority class to create a more balanced dataset that should improve model performance.\n"
   ]
  },
  {
   "cell_type": "code",
   "execution_count": 56,
   "metadata": {},
   "outputs": [],
   "source": [
    "from imblearn.over_sampling import SMOTE\n",
    "smote = SMOTE(random_state=4)"
   ]
  },
  {
   "cell_type": "code",
   "execution_count": 57,
   "metadata": {},
   "outputs": [],
   "source": [
    "# Apply SMOTE resampling\n",
    "smote = SMOTE()\n",
    "X_train_resampled, y_train_resampled = smote.fit_resample(X_train, y_train)\n",
    "\n",
    "# Now X_train_resampled and y_train_resampled contain the resampled data\n"
   ]
  },
  {
   "cell_type": "markdown",
   "metadata": {},
   "source": [
    "Now we have to refit the training sets so they are the same size.  This will make all model building much easier."
   ]
  },
  {
   "cell_type": "code",
   "execution_count": 58,
   "metadata": {
    "scrolled": false
   },
   "outputs": [
    {
     "data": {
      "text/plain": [
       "True     2141\n",
       "False    2141\n",
       "Name: churn, dtype: int64"
      ]
     },
     "execution_count": 58,
     "metadata": {},
     "output_type": "execute_result"
    }
   ],
   "source": [
    "my_df1, my_df2 = smote.fit_resample(X_train, y_train)\n",
    "y_train_resampled.value_counts()"
   ]
  },
  {
   "cell_type": "code",
   "execution_count": 59,
   "metadata": {
    "scrolled": true
   },
   "outputs": [
    {
     "name": "stdout",
     "output_type": "stream",
     "text": [
      "Input data shape: (4282, 64)\n",
      "Labels shape: (2499,)\n"
     ]
    }
   ],
   "source": [
    "print(\"Input data shape:\", my_df1.shape)\n",
    "print(\"Labels shape:\", y_train.shape)\n"
   ]
  },
  {
   "cell_type": "code",
   "execution_count": 60,
   "metadata": {
    "scrolled": true
   },
   "outputs": [],
   "source": [
    "#print(\"Input data sample:\")\n",
    "#print(my_df1.head())\n",
    "#print(\"Labels sample:\")\n",
    "#print(y_train.head())\n"
   ]
  },
  {
   "cell_type": "code",
   "execution_count": 61,
   "metadata": {},
   "outputs": [
    {
     "name": "stdout",
     "output_type": "stream",
     "text": [
      "Input data shape: (4282, 64)\n",
      "Labels shape: (4282,)\n"
     ]
    }
   ],
   "source": [
    "print(\"Input data shape:\", X_train_resampled.shape)\n",
    "print(\"Labels shape:\", y_train_resampled.shape)\n"
   ]
  },
  {
   "cell_type": "markdown",
   "metadata": {},
   "source": [
    "Ok, our dataset is balanced now. Let's rerun our model.  \n",
    "  \n",
    "<span style=\"font-size: 30px;\">**Oversampled (SMOTE) Decision Tree**</span>  "
   ]
  },
  {
   "cell_type": "code",
   "execution_count": 62,
   "metadata": {
    "scrolled": true
   },
   "outputs": [
    {
     "data": {
      "image/png": "[encoded data removed]",
      "text/plain": [
       "<Figure size 864x576 with 1 Axes>"
      ]
     },
     "metadata": {
      "needs_background": "light"
     },
     "output_type": "display_data"
    },
    {
     "name": "stdout",
     "output_type": "stream",
     "text": [
      "Decision Tree Model Evaluation:\n",
      "Accuracy: 0.7985611510791367\n",
      "Classification Report:\n",
      "              precision    recall  f1-score   support\n",
      "\n",
      "       False       0.88      0.88      0.88       709\n",
      "        True       0.33      0.34      0.34       125\n",
      "\n",
      "    accuracy                           0.80       834\n",
      "   macro avg       0.61      0.61      0.61       834\n",
      "weighted avg       0.80      0.80      0.80       834\n",
      "\n"
     ]
    }
   ],
   "source": [
    "# Initialize and fit the decision tree classifier with the encoded data\n",
    "decision_tree_model_os = DecisionTreeClassifier().fit(X_train_resampled, y_train_resampled)\n",
    "\n",
    "# Predict the labels for the test set\n",
    "y_pred_dt = decision_tree_model_os.predict(X_test_final)\n",
    "\n",
    "# Now, you can proceed with plotting the decision tree or any other analysis\n",
    "plt.figure(figsize=(12, 8))\n",
    "plot_tree(decision_tree_model, filled=True, feature_names=X_train_resampled.columns, class_names=['Not Churn', 'Churn'])\n",
    "plt.title(\"Decision Tree Visualization\")\n",
    "plt.show()\n",
    "# Evaluate the model\n",
    "accuracy_dt = accuracy_score(y_test, y_pred_dt)\n",
    "classification_rep_dt = classification_report(y_test, y_pred_dt)\n",
    "\n",
    "print(\"Decision Tree Model Evaluation:\")\n",
    "print(\"Accuracy:\", accuracy_dt)\n",
    "print(\"Classification Report:\")\n",
    "print(classification_rep_dt)"
   ]
  },
  {
   "cell_type": "code",
   "execution_count": 63,
   "metadata": {},
   "outputs": [
    {
     "name": "stdout",
     "output_type": "stream",
     "text": [
      "Cross-Validation Scores [0.89820359 0.90419162 0.88023952 0.91616766 0.89156627]\n",
      "Mean CV Score 0.8980737320539642\n"
     ]
    }
   ],
   "source": [
    "cv_scores_os = cross_val_score(decision_tree_model_os, X_test_final, y_test, cv=5)\n",
    "print('Cross-Validation Scores', cv_scores_os)\n",
    "print('Mean CV Score', cv_scores_os.mean())"
   ]
  },
  {
   "cell_type": "code",
   "execution_count": 64,
   "metadata": {
    "scrolled": true
   },
   "outputs": [
    {
     "data": {
      "image/png": "[encoded data removed]",
      "text/plain": [
       "<Figure size 576x432 with 1 Axes>"
      ]
     },
     "metadata": {
      "needs_background": "light"
     },
     "output_type": "display_data"
    },
    {
     "name": "stdout",
     "output_type": "stream",
     "text": [
      "0.6113511988716501\n"
     ]
    }
   ],
   "source": [
    "# Your existing code to get the probability scores and calculate ROC curve\n",
    "y_prob = decision_tree_model_os.predict_proba(X_test_final)[:, 1]\n",
    "fpr, tpr, thresholds = roc_curve(y_test, y_prob)\n",
    "\n",
    "# Plotting the ROC curve\n",
    "plt.figure(figsize=(8, 6))  # Increase the figure size\n",
    "plt.plot(fpr, tpr)\n",
    "plt.plot([0, 1], [0, 1])\n",
    "\n",
    "plt.xlim([0.0, 1.0])\n",
    "plt.ylim([0.0, 1.05])\n",
    "plt.gca().set_aspect('equal', adjustable='box')  # Adjust aspect ratio\n",
    "plt.tight_layout(pad=0)  # Remove any additional whitespace\n",
    "plt.show()\n",
    "\n",
    "roc_auc = auc(fpr, tpr)\n",
    "print(roc_auc)"
   ]
  },
  {
   "cell_type": "markdown",
   "metadata": {},
   "source": [
    "To reiterate, our baseline model has the following scores:\n",
    "  \n",
    "-  Accuracy = 91.9%\n",
    "-  Precision = 73% (we are focused on true Positives)\n",
    "-  Cross Validation = 90%\n",
    "-  AUC = 84.7%"
   ]
  },
  {
   "cell_type": "markdown",
   "metadata": {},
   "source": [
    "The Oversampled Scaled Mode is less accurate, so let's keep trying.  Because our model was oversampled by so much, it skewed our precision and therefore affected our Accuracy. Here are the scores for reference:\n",
    "    \n",
    "Accuracy = 79%  \n",
    "Precision = 33% (we are focused on true Positives)  \n",
    "Cross Validation = 89%  \n",
    "AUC = 61.7%     "
   ]
  },
  {
   "cell_type": "markdown",
   "metadata": {},
   "source": [
    "Wow, ok that hurt our model.  Let's try pruning it to see what happens\n"
   ]
  },
  {
   "cell_type": "markdown",
   "metadata": {},
   "source": [
    "Let's do a little pruning of this Decision Tree  \n",
    "  \n",
    "<span style=\"font-size: 30px;\">**Pruned Oversampled Decision Tree**</span>    "
   ]
  },
  {
   "cell_type": "code",
   "execution_count": 65,
   "metadata": {
    "scrolled": true
   },
   "outputs": [
    {
     "data": {
      "image/png": "[encoded data removed]",
      "text/plain": [
       "<Figure size 864x576 with 1 Axes>"
      ]
     },
     "metadata": {
      "needs_background": "light"
     },
     "output_type": "display_data"
    },
    {
     "name": "stdout",
     "output_type": "stream",
     "text": [
      "Pruned Decision Tree Model Evaluation:\n",
      "Accuracy: 0.829736211031175\n",
      "Classification Report:\n",
      "              precision    recall  f1-score   support\n",
      "\n",
      "       False       0.88      0.93      0.90       709\n",
      "        True       0.40      0.26      0.31       125\n",
      "\n",
      "    accuracy                           0.83       834\n",
      "   macro avg       0.64      0.59      0.61       834\n",
      "weighted avg       0.80      0.83      0.81       834\n",
      "\n"
     ]
    }
   ],
   "source": [
    "# Initialize the decision tree classifier with the encoded data\n",
    "decision_tree_model_prune = DecisionTreeClassifier(ccp_alpha=0.005)  # Adjust ccp_alpha as needed\n",
    "\n",
    "# Fit the decision tree classifier to the resampled training data\n",
    "decision_tree_model_prune.fit(X_train_resampled, y_train_resampled)\n",
    "\n",
    "# Predict the labels for the test set\n",
    "y_pred_dt = decision_tree_model_prune.predict(X_test_final)\n",
    "\n",
    "# Plot the pruned decision tree\n",
    "plt.figure(figsize=(12, 8))\n",
    "plot_tree(decision_tree_model, filled=True, feature_names=X_train_resampled.columns, class_names=['Not Churn', 'Churn'])\n",
    "plt.title(\"Pruned Decision Tree Visualization\")\n",
    "plt.show()\n",
    "\n",
    "# Evaluate the pruned model\n",
    "accuracy_dt = accuracy_score(y_test, y_pred_dt)\n",
    "classification_rep_dt = classification_report(y_test, y_pred_dt)\n",
    "\n",
    "print(\"Pruned Decision Tree Model Evaluation:\")\n",
    "print(\"Accuracy:\", accuracy_dt)\n",
    "print(\"Classification Report:\")\n",
    "print(classification_rep_dt)\n"
   ]
  },
  {
   "cell_type": "code",
   "execution_count": 66,
   "metadata": {},
   "outputs": [
    {
     "name": "stdout",
     "output_type": "stream",
     "text": [
      "Cross-Validation Scores [0.92814371 0.89221557 0.93413174 0.93413174 0.89759036]\n",
      "Mean CV Score 0.91724262318736\n"
     ]
    }
   ],
   "source": [
    "cv_scores_prune = cross_val_score(decision_tree_model_prune, X_test_final, y_test, cv=5)\n",
    "print('Cross-Validation Scores', cv_scores_prune)\n",
    "print('Mean CV Score', cv_scores_prune.mean())"
   ]
  },
  {
   "cell_type": "code",
   "execution_count": 67,
   "metadata": {
    "scrolled": true
   },
   "outputs": [
    {
     "data": {
      "image/png": "[encoded data removed]",
      "text/plain": [
       "<Figure size 576x432 with 1 Axes>"
      ]
     },
     "metadata": {
      "needs_background": "light"
     },
     "output_type": "display_data"
    },
    {
     "name": "stdout",
     "output_type": "stream",
     "text": [
      "0.5656304654442879\n"
     ]
    }
   ],
   "source": [
    "# Your existing code to get the probability scores and calculate ROC curve\n",
    "y_prob = decision_tree_model_prune.predict_proba(X_test_final)[:, 1]\n",
    "fpr, tpr, thresholds = roc_curve(y_test, y_prob)\n",
    "\n",
    "# Plotting the ROC curve\n",
    "plt.figure(figsize=(8, 6))  # Increase the figure size\n",
    "plt.plot(fpr, tpr)\n",
    "plt.plot([0, 1], [0, 1])\n",
    "\n",
    "plt.xlim([0.0, 1.0])\n",
    "plt.ylim([0.0, 1.05])\n",
    "plt.gca().set_aspect('equal', adjustable='box')  # Adjust aspect ratio\n",
    "plt.tight_layout(pad=0)  # Remove any additional whitespace\n",
    "plt.show()\n",
    "\n",
    "roc_auc = auc(fpr, tpr)\n",
    "print(roc_auc)"
   ]
  },
  {
   "cell_type": "markdown",
   "metadata": {},
   "source": [
    "To reiterate, our baseline model has the following scores:\n",
    "  \n",
    "-  Accuracy = 91.9%\n",
    "-  Precision = 73% (we are focused on true Positives)\n",
    "-  Cross Validation = 90%\n",
    "-  AUC = 84.7%"
   ]
  },
  {
   "cell_type": "markdown",
   "metadata": {},
   "source": [
    "The Pruned, Oversampled Model is slightly more accurate, but let's keep trying.  Pruning helped with the oversamlping issue slightly by improving the precision of our most recent model and therefore improving accuracy as well. Pruning also improved our CV score compared to our baseline model.  Here are the scores for reference:\n",
    "    \n",
    "Accuracy = 82.9%  \n",
    "Precision = 40% (we are focused on true Positives)  \n",
    "Cross Validation = 91.7%  \n",
    "AUC = 58.1%   "
   ]
  },
  {
   "cell_type": "markdown",
   "metadata": {},
   "source": [
    "Ok, that helped slightly, but still not as good as our baseline after feature scaling.  Let's fine tune some parameters.\n"
   ]
  },
  {
   "cell_type": "markdown",
   "metadata": {},
   "source": [
    "We don't need to visualize the tree anymore, so we will just look at the classification report going forward.\n",
    "  \n",
    "    \n",
    "      \n",
    "Here we have our:  \n",
    "  \n",
    "  \n",
    "### Pruned, Oversampled, Finetuned Decision Tree"
   ]
  },
  {
   "cell_type": "code",
   "execution_count": 68,
   "metadata": {
    "scrolled": true
   },
   "outputs": [
    {
     "name": "stdout",
     "output_type": "stream",
     "text": [
      "Pruned Decision Tree Model Evaluation:\n",
      "Accuracy: 0.829736211031175\n",
      "Classification Report:\n",
      "              precision    recall  f1-score   support\n",
      "\n",
      "       False       0.88      0.93      0.90       709\n",
      "        True       0.40      0.26      0.31       125\n",
      "\n",
      "    accuracy                           0.83       834\n",
      "   macro avg       0.64      0.59      0.61       834\n",
      "weighted avg       0.80      0.83      0.81       834\n",
      "\n"
     ]
    }
   ],
   "source": [
    "# Initialize the decision tree classifier with the encoded data\n",
    "decision_tree_model_pof = DecisionTreeClassifier(ccp_alpha=0.005, splitter='best')  # Adjust ccp_alpha as needed\n",
    "\n",
    "# Fit the decision tree classifier to the resampled training data\n",
    "decision_tree_model_pof.fit(X_train_resampled, y_train_resampled)\n",
    "\n",
    "# Predict the labels for the test set\n",
    "y_pred_dt = decision_tree_model_pof.predict(X_test_final)\n",
    "\n",
    "\n",
    "# Evaluate the pruned model\n",
    "accuracy_dt = accuracy_score(y_test, y_pred_dt)\n",
    "classification_rep_dt = classification_report(y_test, y_pred_dt)\n",
    "\n",
    "print(\"Pruned Decision Tree Model Evaluation:\")\n",
    "print(\"Accuracy:\", accuracy_dt)\n",
    "print(\"Classification Report:\")\n",
    "print(classification_rep_dt)"
   ]
  },
  {
   "cell_type": "code",
   "execution_count": 69,
   "metadata": {},
   "outputs": [
    {
     "name": "stdout",
     "output_type": "stream",
     "text": [
      "Cross-Validation Scores [0.92814371 0.89221557 0.93413174 0.93413174 0.89759036]\n",
      "Mean CV Score 0.91724262318736\n"
     ]
    }
   ],
   "source": [
    "cv_scores_pof = cross_val_score(decision_tree_model_pof, X_test_final, y_test, cv=5)\n",
    "print('Cross-Validation Scores', cv_scores_pof)\n",
    "print('Mean CV Score', cv_scores_pof.mean())"
   ]
  },
  {
   "cell_type": "code",
   "execution_count": 70,
   "metadata": {
    "scrolled": true
   },
   "outputs": [
    {
     "data": {
      "image/png": "[encoded data removed]",
      "text/plain": [
       "<Figure size 576x432 with 1 Axes>"
      ]
     },
     "metadata": {
      "needs_background": "light"
     },
     "output_type": "display_data"
    },
    {
     "name": "stdout",
     "output_type": "stream",
     "text": [
      "0.5656304654442879\n"
     ]
    }
   ],
   "source": [
    "# Your existing code to get the probability scores and calculate ROC curve\n",
    "y_prob = decision_tree_model_pof.predict_proba(X_test_final)[:, 1]\n",
    "fpr, tpr, thresholds = roc_curve(y_test, y_prob)\n",
    "\n",
    "# Plotting the ROC curve\n",
    "plt.figure(figsize=(8, 6))  # Increase the figure size\n",
    "plt.plot(fpr, tpr)\n",
    "plt.plot([0, 1], [0, 1])\n",
    "\n",
    "plt.xlim([0.0, 1.0])\n",
    "plt.ylim([0.0, 1.05])\n",
    "plt.gca().set_aspect('equal', adjustable='box')  # Adjust aspect ratio\n",
    "plt.tight_layout(pad=0)  # Remove any additional whitespace\n",
    "plt.show()\n",
    "\n",
    "roc_auc = auc(fpr, tpr)\n",
    "print(roc_auc)"
   ]
  },
  {
   "cell_type": "markdown",
   "metadata": {},
   "source": [
    "Keep finetuning until we get better results.."
   ]
  },
  {
   "cell_type": "code",
   "execution_count": 71,
   "metadata": {
    "scrolled": true
   },
   "outputs": [
    {
     "name": "stdout",
     "output_type": "stream",
     "text": [
      "Pruned Decision Tree Model Evaluation:\n",
      "Accuracy: 0.3932853717026379\n",
      "Classification Report:\n",
      "              precision    recall  f1-score   support\n",
      "\n",
      "       False       0.92      0.31      0.47       709\n",
      "        True       0.18      0.85      0.30       125\n",
      "\n",
      "    accuracy                           0.39       834\n",
      "   macro avg       0.55      0.58      0.38       834\n",
      "weighted avg       0.81      0.39      0.44       834\n",
      "\n"
     ]
    }
   ],
   "source": [
    "# Initialize the decision tree classifier with the encoded data\n",
    "decision_tree_model_pof1 = DecisionTreeClassifier(ccp_alpha=0.005, splitter='random', max_depth=2)  # Adjust ccp_alpha as needed\n",
    "\n",
    "# Fit the decision tree classifier to the resampled training data\n",
    "decision_tree_model_pof1.fit(X_train_resampled, y_train_resampled)\n",
    "\n",
    "# Predict the labels for the test set\n",
    "y_pred_dt = decision_tree_model_pof1.predict(X_test_final)\n",
    "\n",
    "\n",
    "# Evaluate the pruned model\n",
    "accuracy_dt = accuracy_score(y_test, y_pred_dt)\n",
    "classification_rep_dt = classification_report(y_test, y_pred_dt)\n",
    "\n",
    "print(\"Pruned Decision Tree Model Evaluation:\")\n",
    "print(\"Accuracy:\", accuracy_dt)\n",
    "print(\"Classification Report:\")\n",
    "print(classification_rep_dt)"
   ]
  },
  {
   "cell_type": "code",
   "execution_count": 72,
   "metadata": {},
   "outputs": [
    {
     "name": "stdout",
     "output_type": "stream",
     "text": [
      "Cross-Validation Scores [0.88023952 0.89820359 0.8502994  0.8742515  0.86746988]\n",
      "Mean CV Score 0.874092778298824\n"
     ]
    }
   ],
   "source": [
    "cv_scores_pof1 = cross_val_score(decision_tree_model_pof1, X_test_final, y_test, cv=5)\n",
    "print('Cross-Validation Scores', cv_scores_pof1)\n",
    "print('Mean CV Score', cv_scores_pof1.mean())"
   ]
  },
  {
   "cell_type": "code",
   "execution_count": 73,
   "metadata": {},
   "outputs": [
    {
     "data": {
      "image/png": "[encoded data removed]",
      "text/plain": [
       "<Figure size 576x432 with 1 Axes>"
      ]
     },
     "metadata": {
      "needs_background": "light"
     },
     "output_type": "display_data"
    },
    {
     "name": "stdout",
     "output_type": "stream",
     "text": [
      "0.5799605077574048\n"
     ]
    }
   ],
   "source": [
    "# Your existing code to get the probability scores and calculate ROC curve\n",
    "y_prob = decision_tree_model_pof1.predict_proba(X_test_final)[:, 1]\n",
    "fpr, tpr, thresholds = roc_curve(y_test, y_prob)\n",
    "\n",
    "# Plotting the ROC curve\n",
    "plt.figure(figsize=(8, 6))  # Increase the figure size\n",
    "plt.plot(fpr, tpr)\n",
    "plt.plot([0, 1], [0, 1])\n",
    "\n",
    "plt.xlim([0.0, 1.0])\n",
    "plt.ylim([0.0, 1.05])\n",
    "plt.gca().set_aspect('equal', adjustable='box')  # Adjust aspect ratio\n",
    "plt.tight_layout(pad=0)  # Remove any additional whitespace\n",
    "plt.show()\n",
    "\n",
    "roc_auc = auc(fpr, tpr)\n",
    "print(roc_auc)"
   ]
  },
  {
   "cell_type": "markdown",
   "metadata": {},
   "source": [
    "Uh, this isn't looking good lol"
   ]
  },
  {
   "cell_type": "code",
   "execution_count": 74,
   "metadata": {
    "scrolled": true
   },
   "outputs": [
    {
     "name": "stdout",
     "output_type": "stream",
     "text": [
      "Pruned Decision Tree Model Evaluation:\n",
      "Accuracy: 0.39688249400479614\n",
      "Classification Report:\n",
      "              precision    recall  f1-score   support\n",
      "\n",
      "       False       0.94      0.31      0.47       709\n",
      "        True       0.18      0.89      0.31       125\n",
      "\n",
      "    accuracy                           0.40       834\n",
      "   macro avg       0.56      0.60      0.39       834\n",
      "weighted avg       0.83      0.40      0.44       834\n",
      "\n"
     ]
    }
   ],
   "source": [
    "# Initialize the decision tree classifier with the encoded data\n",
    "decision_tree_model_pof2 = DecisionTreeClassifier(ccp_alpha=0.005, splitter='random', max_depth=5)  # Adjust ccp_alpha as needed\n",
    "\n",
    "# Fit the decision tree classifier to the resampled training data\n",
    "decision_tree_model_pof2.fit(X_train_resampled, y_train_resampled)\n",
    "\n",
    "# Predict the labels for the test set\n",
    "y_pred_dt = decision_tree_model_pof2.predict(X_test_final)\n",
    "\n",
    "\n",
    "# Evaluate the pruned model\n",
    "accuracy_dt = accuracy_score(y_test, y_pred_dt)\n",
    "classification_rep_dt = classification_report(y_test, y_pred_dt)\n",
    "\n",
    "print(\"Pruned Decision Tree Model Evaluation:\")\n",
    "print(\"Accuracy:\", accuracy_dt)\n",
    "print(\"Classification Report:\")\n",
    "print(classification_rep_dt)"
   ]
  },
  {
   "cell_type": "code",
   "execution_count": 75,
   "metadata": {},
   "outputs": [
    {
     "name": "stdout",
     "output_type": "stream",
     "text": [
      "Cross-Validation Scores [0.82634731 0.86826347 0.86826347 0.86227545 0.86746988]\n",
      "Mean CV Score 0.858523916023375\n"
     ]
    }
   ],
   "source": [
    "cv_scores_pof2 = cross_val_score(decision_tree_model_pof2, X_test_final, y_test, cv=5)\n",
    "print('Cross-Validation Scores', cv_scores_pof2)\n",
    "print('Mean CV Score', cv_scores_pof2.mean())"
   ]
  },
  {
   "cell_type": "code",
   "execution_count": 76,
   "metadata": {},
   "outputs": [
    {
     "data": {
      "image/png": "[encoded data removed]",
      "text/plain": [
       "<Figure size 576x432 with 1 Axes>"
      ]
     },
     "metadata": {
      "needs_background": "light"
     },
     "output_type": "display_data"
    },
    {
     "name": "stdout",
     "output_type": "stream",
     "text": [
      "0.6173935119887164\n"
     ]
    }
   ],
   "source": [
    "# Your existing code to get the probability scores and calculate ROC curve\n",
    "y_prob = decision_tree_model_pof2.predict_proba(X_test_final)[:, 1]\n",
    "fpr, tpr, thresholds = roc_curve(y_test, y_prob)\n",
    "\n",
    "# Plotting the ROC curve\n",
    "plt.figure(figsize=(8, 6))  # Increase the figure size\n",
    "plt.plot(fpr, tpr)\n",
    "plt.plot([0, 1], [0, 1])\n",
    "\n",
    "plt.xlim([0.0, 1.0])\n",
    "plt.ylim([0.0, 1.05])\n",
    "plt.gca().set_aspect('equal', adjustable='box')  # Adjust aspect ratio\n",
    "plt.tight_layout(pad=0)  # Remove any additional whitespace\n",
    "plt.show()\n",
    "\n",
    "roc_auc = auc(fpr, tpr)\n",
    "print(roc_auc)"
   ]
  },
  {
   "cell_type": "markdown",
   "metadata": {},
   "source": [
    "So moving the max_depth to 5 helped quite a bit.  Funny what a little fine tuning can do!"
   ]
  },
  {
   "cell_type": "markdown",
   "metadata": {},
   "source": [
    "Here is some improvement!    \n",
    "  \n",
    "  \n",
    "However, we are still trying to outperform our baseline model.  And since we can only get close to that original baseline model after feature scaling, Oversampling, and Pruning, let's just fine tune the feature scaled model instead.  \n",
    "  \n",
    "  \n",
    "### Finetuned, Baseline Decision Tree"
   ]
  },
  {
   "cell_type": "code",
   "execution_count": 77,
   "metadata": {},
   "outputs": [
    {
     "name": "stdout",
     "output_type": "stream",
     "text": [
      "Decision Tree Model Evaluation:\n",
      "Accuracy: 0.9436450839328537\n",
      "Classification Report:\n",
      "              precision    recall  f1-score   support\n",
      "\n",
      "       False       0.96      0.98      0.97       709\n",
      "        True       0.86      0.74      0.80       125\n",
      "\n",
      "    accuracy                           0.94       834\n",
      "   macro avg       0.91      0.86      0.88       834\n",
      "weighted avg       0.94      0.94      0.94       834\n",
      "\n"
     ]
    }
   ],
   "source": [
    "# Initialize and fit the decision tree classifier with the encoded data\n",
    "decision_tree_model_ft = DecisionTreeClassifier(ccp_alpha=0.001).fit(X_train_encoded, y_train)\n",
    "\n",
    "# Predict the labels for the test set\n",
    "y_pred_dt = decision_tree_model_ft.predict(X_test_encoded)\n",
    "\n",
    "\n",
    "# Evaluate the model\n",
    "accuracy_dt = accuracy_score(y_test, y_pred_dt)\n",
    "classification_rep_dt = classification_report(y_test, y_pred_dt)\n",
    "\n",
    "print(\"Decision Tree Model Evaluation:\")\n",
    "print(\"Accuracy:\", accuracy_dt)\n",
    "print(\"Classification Report:\")\n",
    "print(classification_rep_dt)"
   ]
  },
  {
   "cell_type": "code",
   "execution_count": 78,
   "metadata": {},
   "outputs": [
    {
     "name": "stdout",
     "output_type": "stream",
     "text": [
      "Cross-Validation Scores [0.90419162 0.92215569 0.89221557 0.90419162 0.87951807]\n",
      "Mean CV Score 0.9004545126614243\n"
     ]
    }
   ],
   "source": [
    "cv_scores_ft = cross_val_score(decision_tree_model_ft, X_test_encoded, y_test, cv=5)\n",
    "print('Cross-Validation Scores', cv_scores_ft)\n",
    "print('Mean CV Score', cv_scores_ft.mean())"
   ]
  },
  {
   "cell_type": "code",
   "execution_count": 79,
   "metadata": {
    "scrolled": true
   },
   "outputs": [
    {
     "data": {
      "image/png": "[encoded data removed]",
      "text/plain": [
       "<Figure size 576x432 with 1 Axes>"
      ]
     },
     "metadata": {
      "needs_background": "light"
     },
     "output_type": "display_data"
    },
    {
     "name": "stdout",
     "output_type": "stream",
     "text": [
      "0.8835035260930888\n"
     ]
    }
   ],
   "source": [
    "# Your existing code to get the probability scores and calculate ROC curve\n",
    "y_prob = decision_tree_model_ft.predict_proba(X_test_encoded)[:, 1]\n",
    "fpr, tpr, thresholds = roc_curve(y_test, y_prob)\n",
    "\n",
    "# Plotting the ROC curve\n",
    "plt.figure(figsize=(8, 6))  # Increase the figure size\n",
    "plt.plot(fpr, tpr)\n",
    "plt.plot([0, 1], [0, 1])\n",
    "\n",
    "plt.xlim([0.0, 1.0])\n",
    "plt.ylim([0.0, 1.05])\n",
    "plt.gca().set_aspect('equal', adjustable='box')  # Adjust aspect ratio\n",
    "plt.tight_layout(pad=0)  # Remove any additional whitespace\n",
    "plt.show()\n",
    "\n",
    "roc_auc = auc(fpr, tpr)\n",
    "print(roc_auc)"
   ]
  },
  {
   "cell_type": "markdown",
   "metadata": {},
   "source": [
    "Wow, that looks amazing.  let's try the same parameters on our Feature Scaled Model.  \n",
    "  \n",
    "<span style=\"font-size: 30px;\">**Feature Scaled, Finetuned Decision Tree**</span>   \n",
    "  \n",
    "  \n",
    "This is our **Best** model.  Notice the precision for true and false 'churn' coutns, the recall, and the Cross Validation and AUC scores are the best we've seen.  This would be a great model to use for future prediction.  "
   ]
  },
  {
   "cell_type": "code",
   "execution_count": 80,
   "metadata": {
    "scrolled": true
   },
   "outputs": [
    {
     "name": "stdout",
     "output_type": "stream",
     "text": [
      "Decision Tree Model Evaluation:\n",
      "Accuracy: 0.9460431654676259\n",
      "Classification Report:\n",
      "              precision    recall  f1-score   support\n",
      "\n",
      "       False       0.96      0.98      0.97       709\n",
      "        True       0.87      0.75      0.81       125\n",
      "\n",
      "    accuracy                           0.95       834\n",
      "   macro avg       0.91      0.87      0.89       834\n",
      "weighted avg       0.94      0.95      0.94       834\n",
      "\n"
     ]
    }
   ],
   "source": [
    "# Initialize and fit the decision tree classifier with the encoded data\n",
    "decision_tree_model_fs = DecisionTreeClassifier(ccp_alpha=.001).fit(my_df1_copy, y_train)\n",
    "\n",
    "# Predict the labels for the test set\n",
    "y_pred_dt = decision_tree_model_fs.predict(my_df2_copy)\n",
    "\n",
    "# Evaluate the model\n",
    "accuracy_dt = accuracy_score(y_test, y_pred_dt)\n",
    "classification_rep_dt = classification_report(y_test, y_pred_dt)\n",
    "\n",
    "print(\"Decision Tree Model Evaluation:\")\n",
    "print(\"Accuracy:\", accuracy_dt)\n",
    "print(\"Classification Report:\")\n",
    "print(classification_rep_dt)"
   ]
  },
  {
   "cell_type": "code",
   "execution_count": 81,
   "metadata": {},
   "outputs": [
    {
     "name": "stdout",
     "output_type": "stream",
     "text": [
      "Cross-Validation Scores [0.89820359 0.92215569 0.90419162 0.91017964 0.87951807]\n",
      "Mean CV Score 0.9028497222422626\n"
     ]
    }
   ],
   "source": [
    "cv_scores_fs = cross_val_score(decision_tree_model_fs, my_df2_copy, y_test, cv=5)\n",
    "print('Cross-Validation Scores', cv_scores_fs)\n",
    "print('Mean CV Score', cv_scores_fs.mean())"
   ]
  },
  {
   "cell_type": "code",
   "execution_count": 82,
   "metadata": {
    "scrolled": true
   },
   "outputs": [
    {
     "data": {
      "image/png": "[encoded data removed]",
      "text/plain": [
       "<Figure size 576x432 with 1 Axes>"
      ]
     },
     "metadata": {
      "needs_background": "light"
     },
     "output_type": "display_data"
    },
    {
     "name": "stdout",
     "output_type": "stream",
     "text": [
      "0.8842200282087446\n"
     ]
    }
   ],
   "source": [
    "# Your existing code to get the probability scores and calculate ROC curve\n",
    "y_prob = decision_tree_model_fs.predict_proba(my_df2_copy)[:, 1]\n",
    "fpr, tpr, thresholds = roc_curve(y_test, y_prob)\n",
    "\n",
    "# Plotting the ROC curve\n",
    "plt.figure(figsize=(8, 6))  # Increase the figure size\n",
    "plt.plot(fpr, tpr)\n",
    "plt.plot([0, 1], [0, 1])\n",
    "\n",
    "plt.xlim([0.0, 1.0])\n",
    "plt.ylim([0.0, 1.05])\n",
    "plt.gca().set_aspect('equal', adjustable='box')  # Adjust aspect ratio\n",
    "plt.tight_layout(pad=0)  # Remove any additional whitespace\n",
    "plt.show()\n",
    "\n",
    "roc_auc = auc(fpr, tpr)\n",
    "print(roc_auc)"
   ]
  },
  {
   "cell_type": "markdown",
   "metadata": {},
   "source": [
    "To reiterate, our baseline model has the following scores:\n",
    "  \n",
    "-  Accuracy = 91.9%\n",
    "-  Precision = 73% (we are focused on true Positives)\n",
    "-  Cross Validation = 90%\n",
    "-  AUC = 84.7%"
   ]
  },
  {
   "cell_type": "markdown",
   "metadata": {},
   "source": [
    "We have found our best model.  Our baseline model was very strong, so a little finetuning was all we needed.  CCP is a pruning parameter, so it turns out that's all we needed to improve accuracy, precision, and AUC.\n",
    "  \n",
    "-  Accuracy = 94.9%\n",
    "-  Precision = 90% (we are focused on true Positives)\n",
    "-  Cross Validation = 89%\n",
    "-  AUC = 88.5%"
   ]
  },
  {
   "cell_type": "markdown",
   "metadata": {},
   "source": [
    "These models are very similar in results.  Looks like our finetuned Baseline model works the best!"
   ]
  },
  {
   "cell_type": "code",
   "execution_count": 84,
   "metadata": {},
   "outputs": [
    {
     "data": {
      "image/png": "[encoded data removed]",
      "text/plain": [
       "<Figure size 576x432 with 1 Axes>"
      ]
     },
     "metadata": {
      "needs_background": "light"
     },
     "output_type": "display_data"
    }
   ],
   "source": [
    "conf_matrix = confusion_matrix(y_test, y_pred_dt)\n",
    "\n",
    "plt.figure(figsize= (8,6))\n",
    "sns.heatmap(conf_matrix, annot=True, cmap='Blues', fmt='g', cbar=False)\n",
    "plt.xlabel('Predicted Values')\n",
    "plt.ylabel('Actual Values')\n",
    "plt.title('Confusion Matrix')\n",
    "plt.show()"
   ]
  },
  {
   "cell_type": "markdown",
   "metadata": {},
   "source": [
    "<span style=\"font-size: 30px;\">**Logistic Regression Model**</span> "
   ]
  },
  {
   "cell_type": "code",
   "execution_count": null,
   "metadata": {},
   "outputs": [],
   "source": [
    "# Instantiate the logistic regression model\n",
    "logistic_regression_model = LogisticRegression()\n",
    "\n",
    "# Fit the model on the training data\n",
    "logistic_regression_model.fit(X_train_final, y_train)\n",
    "\n",
    "# Make predictions on the test data\n",
    "y_pred = logistic_regression_model.predict(X_test_final)\n",
    "\n",
    "# Evaluate the model\n",
    "accuracy = accuracy_score(y_test, y_pred)\n",
    "classification_rep = classification_report(y_test, y_pred)\n",
    "\n",
    "# Print the evaluation metrics\n",
    "print(\"Accuracy:\", accuracy)\n",
    "print(\"Classification Report:\")\n",
    "print(classification_rep)"
   ]
  },
  {
   "cell_type": "code",
   "execution_count": null,
   "metadata": {},
   "outputs": [],
   "source": [
    "cv_scores_log = cross_val_score(logistic_regression_model, X_test_final, y_test, cv=5)\n",
    "print('Cross-Validation Scores', cv_scores_log)\n",
    "print('Mean CV Score', cv_scores_log.mean())"
   ]
  },
  {
   "cell_type": "code",
   "execution_count": null,
   "metadata": {
    "scrolled": true
   },
   "outputs": [],
   "source": [
    "# Your existing code to get the probability scores and calculate ROC curve\n",
    "y_prob = logistic_regression_model.predict_proba(X_test_final)[:, 1]\n",
    "fpr, tpr, thresholds = roc_curve(y_test, y_prob)\n",
    "\n",
    "# Plotting the ROC curve\n",
    "plt.figure(figsize=(8, 6))  # Increase the figure size\n",
    "plt.plot(fpr, tpr)\n",
    "plt.plot([0, 1], [0, 1])\n",
    "\n",
    "plt.xlim([0.0, 1.0])\n",
    "plt.ylim([0.0, 1.05])\n",
    "plt.gca().set_aspect('equal', adjustable='box')  # Adjust aspect ratio\n",
    "plt.tight_layout(pad=0)  # Remove any additional whitespace\n",
    "plt.show()\n",
    "\n",
    "roc_auc = auc(fpr, tpr)\n",
    "print(roc_auc)"
   ]
  },
  {
   "cell_type": "markdown",
   "metadata": {},
   "source": [
    "<span style=\"font-size: 30px;\">**Finetuned Logistic Regression Model**</span> "
   ]
  },
  {
   "cell_type": "code",
   "execution_count": null,
   "metadata": {},
   "outputs": [],
   "source": [
    "logistic_regression_model_tn = LogisticRegression(penalty='l1', solver='liblinear', C = 1)\n",
    "\n",
    "# Fit the model on the training data\n",
    "logistic_regression_model_tn.fit(X_train_final, y_train)\n",
    "\n",
    "# Make predictions on the test data\n",
    "y_pred = logistic_regression_model_tn.predict(X_test_final)\n",
    "\n",
    "# Evaluate the model\n",
    "accuracy = accuracy_score(y_test, y_pred)\n",
    "classification_rep = classification_report(y_test, y_pred)\n",
    "\n",
    "# Print the evaluation metrics\n",
    "print(\"Accuracy:\", accuracy)\n",
    "print(\"Classification Report:\")\n",
    "print(classification_rep)"
   ]
  },
  {
   "cell_type": "code",
   "execution_count": null,
   "metadata": {},
   "outputs": [],
   "source": [
    "cv_scores_log_tn = cross_val_score(logistic_regression_model_tn, X_train_final, y_train, cv=5)\n",
    "print('Cross-Validation Scores', cv_scores_log_tn)\n",
    "print('Mean CV Score', cv_scores_log_tn.mean())"
   ]
  },
  {
   "cell_type": "code",
   "execution_count": null,
   "metadata": {},
   "outputs": [],
   "source": [
    "# Your existing code to get the probability scores and calculate ROC curve\n",
    "y_prob = logistic_regression_model_tn.predict_proba(my_df2_copy)[:, 1]\n",
    "fpr, tpr, thresholds = roc_curve(y_test, y_prob)\n",
    "\n",
    "# Plotting the ROC curve\n",
    "plt.figure(figsize=(8, 6))  # Increase the figure size\n",
    "plt.plot(fpr, tpr)\n",
    "plt.plot([0, 1], [0, 1])\n",
    "\n",
    "plt.xlim([0.0, 1.0])\n",
    "plt.ylim([0.0, 1.05])\n",
    "plt.gca().set_aspect('equal', adjustable='box')  # Adjust aspect ratio\n",
    "plt.tight_layout(pad=0)  # Remove any additional whitespace\n",
    "plt.show()\n",
    "\n",
    "roc_auc = auc(fpr, tpr)\n",
    "print(roc_auc)"
   ]
  },
  {
   "cell_type": "code",
   "execution_count": null,
   "metadata": {},
   "outputs": [],
   "source": [
    "conf_matrix = confusion_matrix(y_test, y_pred)\n",
    "\n",
    "plt.figure(figsize= (8,6))\n",
    "sns.heatmap(conf_matrix, annot=True, cmap='Blues', fmt='g', cbar=False)\n",
    "plt.xlabel('Predicted Values')\n",
    "plt.ylabel('Actual Values')\n",
    "plt.title('Confusion Matrix')\n",
    "plt.show()"
   ]
  },
  {
   "cell_type": "code",
   "execution_count": null,
   "metadata": {},
   "outputs": [],
   "source": []
  }
 ],
 "metadata": {
  "kernelspec": {
   "display_name": "Python (learn-env)",
   "language": "python",
   "name": "learn-env"
  },
  "language_info": {
   "codemirror_mode": {
    "name": "ipython",
    "version": 3
   },
   "file_extension": ".py",
   "mimetype": "text/x-python",
   "name": "python",
   "nbconvert_exporter": "python",
   "pygments_lexer": "ipython3",
   "version": "3.8.5"
  }
 },
 "nbformat": 4,
 "nbformat_minor": 4
}
